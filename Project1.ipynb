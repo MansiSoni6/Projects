{
  "cells": [
    {
      "cell_type": "markdown",
      "metadata": {
        "id": "nrPTmJPEcxTU"
      },
      "source": [
        "# Helpful functions for Tensorflow (little gem)\n",
        "\n"
      ]
    },
    {
      "cell_type": "code",
      "source": [
        "from collections.abc import Sequence\n",
        "from sklearn import preprocessing\n",
        "import matplotlib.pyplot as plt\n",
        "import numpy as np\n",
        "import pandas as pd\n",
        "import shutil\n",
        "import os\n",
        "\n",
        "\n",
        "# Encode text values to dummy variables(i.e. [1,0,0],[0,1,0],[0,0,1] for red,green,blue)\n",
        "def encode_text_dummy(df, name):\n",
        "    dummies = pd.get_dummies(df[name])\n",
        "    for x in dummies.columns:\n",
        "        dummy_name = \"{}-{}\".format(name, x)\n",
        "        df[dummy_name] = dummies[x]\n",
        "    df.drop(name, axis=1, inplace=True)\n",
        "\n",
        "\n",
        "# Encode text values to indexes(i.e. [1],[2],[3] for red,green,blue).\n",
        "def encode_text_index(df, name):\n",
        "    le = preprocessing.LabelEncoder()\n",
        "    df[name] = le.fit_transform(df[name])\n",
        "    return le.classes_\n",
        "\n",
        "\n",
        "# Encode a numeric column as zscores\n",
        "def encode_numeric_zscore(df, name, mean=None, sd=None):\n",
        "    if mean is None:\n",
        "        mean = df[name].mean()\n",
        "\n",
        "    if sd is None:\n",
        "        sd = df[name].std()\n",
        "\n",
        "    df[name] = (df[name] - mean) / sd\n",
        "\n",
        "\n",
        "# Convert all missing values in the specified column to the median\n",
        "def missing_median(df, name):\n",
        "    med = df[name].median()\n",
        "    df[name] = df[name].fillna(med)\n",
        "\n",
        "\n",
        "# Convert all missing values in the specified column to the default\n",
        "def missing_default(df, name, default_value):\n",
        "    df[name] = df[name].fillna(default_value)\n",
        "\n",
        "\n",
        "# Convert a Pandas dataframe to the x,y inputs that TensorFlow needs\n",
        "def to_xy(df, target):\n",
        "    result = []\n",
        "    for x in df.columns:\n",
        "        if x != target:\n",
        "            result.append(x)\n",
        "    # find out the type of the target column.\n",
        "    target_type = df[target].dtypes\n",
        "    target_type = target_type[0] if isinstance(target_type, Sequence) else target_type\n",
        "    # Encode to int for classification, float otherwise. TensorFlow likes 32 bits.\n",
        "    if target_type in (np.int64, np.int32):\n",
        "        # Classification\n",
        "        dummies = pd.get_dummies(df[target])\n",
        "        return df[result].values.astype(np.float32), dummies.values.astype(np.float32)\n",
        "    else:\n",
        "        # Regression\n",
        "        return df[result].values.astype(np.float32), df[target].values.astype(np.float32)\n",
        "\n",
        "# Nicely formatted time string\n",
        "def hms_string(sec_elapsed):\n",
        "    h = int(sec_elapsed / (60 * 60))\n",
        "    m = int((sec_elapsed % (60 * 60)) / 60)\n",
        "    s = sec_elapsed % 60\n",
        "    return \"{}:{:>02}:{:>05.2f}\".format(h, m, s)\n",
        "\n",
        "\n",
        "# Regression chart.\n",
        "def chart_regression(pred,y,sort=True):\n",
        "    t = pd.DataFrame({'pred' : pred, 'y' : y.flatten()})\n",
        "    if sort:\n",
        "        t.sort_values(by=['y'],inplace=True)\n",
        "    a = plt.plot(t['y'].tolist(),label='expected')\n",
        "    b = plt.plot(t['pred'].tolist(),label='prediction')\n",
        "    plt.ylabel('output')\n",
        "    plt.legend()\n",
        "    plt.show()\n",
        "\n",
        "# Remove all rows where the specified column is +/- sd standard deviations\n",
        "def remove_outliers(df, name, sd):\n",
        "    drop_rows = df.index[(np.abs(df[name] - df[name].mean()) >= (sd * df[name].std()))]\n",
        "    df.drop(drop_rows, axis=0, inplace=True)\n",
        "\n",
        "\n",
        "# Encode a column to a range between normalized_low and normalized_high.\n",
        "def encode_numeric_range(df, name, normalized_low=-1, normalized_high=1,\n",
        "                         data_low=None, data_high=None):\n",
        "    if data_low is None:\n",
        "        data_low = min(df[name])\n",
        "        data_high = max(df[name])\n",
        "\n",
        "    df[name] = ((df[name] - data_low) / (data_high - data_low)) \\\n",
        "               * (normalized_high - normalized_low) + normalized_low\n",
        "\n",
        "%matplotlib inline\n",
        "import matplotlib.pyplot as plt\n",
        "from sklearn.metrics import roc_curve, auc\n",
        "\n",
        "# Plot a confusion matrix.\n",
        "# cm is the confusion matrix, names are the names of the classes.\n",
        "def plot_confusion_matrix(cm, names, title='Confusion matrix', cmap=plt.cm.Blues):\n",
        "    plt.imshow(cm, interpolation='nearest', cmap=cmap)\n",
        "    plt.title(title)\n",
        "    plt.colorbar()\n",
        "    tick_marks = np.arange(len(names))\n",
        "    plt.xticks(tick_marks, names, rotation=45)\n",
        "    plt.yticks(tick_marks, names)\n",
        "    plt.tight_layout()\n",
        "    plt.ylabel('True label')\n",
        "    plt.xlabel('Predicted label')\n",
        "\n",
        "\n",
        "# Plot an ROC. pred - the predictions, y - the expected output.\n",
        "def plot_roc(pred,y):\n",
        "    fpr, tpr, thresholds = roc_curve(y, pred)\n",
        "    roc_auc = auc(fpr, tpr)\n",
        "\n",
        "    plt.figure()\n",
        "    plt.plot(fpr, tpr, label='ROC curve (area = %0.2f)' % roc_auc)\n",
        "    plt.plot([0, 1], [0, 1], 'k--')\n",
        "    plt.xlim([0.0, 1.0])\n",
        "    plt.ylim([0.0, 1.05])\n",
        "    plt.xlabel('False Positive Rate')\n",
        "    plt.ylabel('True Positive Rate')\n",
        "    plt.title('Receiver Operating Characteristic (ROC)')\n",
        "    plt.legend(loc=\"lower right\")\n",
        "    plt.show()\n",
        "\n",
        "\n",
        "    #Modified to_xy to get 1D y\n",
        "def to_xy_1d(df, target):\n",
        "    result = []\n",
        "    for x in df.columns:\n",
        "        if x != target:\n",
        "            result.append(x)\n",
        "    # find out the type of the target column.\n",
        "    target_type = df[target].dtypes\n",
        "    target_type = target_type[0] if isinstance(target_type, Sequence) else target_type\n",
        "    # Encode to int for classification, float otherwise. TensorFlow likes 32 bits.\n",
        "    if target_type in (np.int64, np.int32):\n",
        "        # Classification\n",
        "        dummies = pd.get_dummies(df[target])\n",
        "        return df[result].values.astype(np.float32), df[target].values.astype(np.float32)\n",
        "    else:\n",
        "        # Regression\n",
        "        return df[result].values.astype(np.float32), df[target].values.astype(np.float32)\n"
      ],
      "metadata": {
        "id": "UTzj5bEvQPXa"
      },
      "execution_count": null,
      "outputs": []
    },
    {
      "cell_type": "code",
      "execution_count": null,
      "metadata": {
        "colab": {
          "base_uri": "https://localhost:8080/",
          "height": 456
        },
        "id": "zYloLA_yeEgS",
        "outputId": "5f262978-e49a-4d34-f294-19eaa649f164"
      },
      "outputs": [
        {
          "output_type": "execute_result",
          "data": {
            "text/plain": [
              "   AGE  SEX   BMI  OPEN_LAP  DM  TUMOR.SIZE     AFP  RAS  WBC    HB  ...  \\\n",
              "0   64    0  23.3         0   0    1.200000   193.0    0  4.1  12.9  ...   \n",
              "1   57    1  28.9         0   0    1.500000     6.1    0  5.2  14.1  ...   \n",
              "2   45    1  29.7         0   0    1.700000  1120.0    0  4.5  16.4  ...   \n",
              "3   57    1  23.8         0   0    6.600000    16.0    0  5.9  11.1  ...   \n",
              "4   51    1  23.6         0   1    1.007298    68.7    0  5.0  15.1  ...   \n",
              "5   60    1  30.4         0   0    6.700000     2.3    0  4.5  14.6  ...   \n",
              "6   70    1  22.2         0   0    2.000000   347.0    0  7.4  14.0  ...   \n",
              "7   62    1  27.9         0   0    2.800000     5.3    1  4.7  14.7  ...   \n",
              "8   40    1  24.9         0   0    4.000000    15.3    0  3.6  13.7  ...   \n",
              "9   70    0  33.4         0   0    2.500000    19.0    0  3.3  11.7  ...   \n",
              "\n",
              "     CR  ALB  AST  ALT  GLU  CHOLESTEROL  CRYSTALLOID  PRBC  DURATION.OF.SURG  \\\n",
              "0  0.70  3.7   36   35  128          197         1800     0               214   \n",
              "1  1.00  4.0   25   24  111          125          500     0               240   \n",
              "2  0.90  4.6   30   29   91          146         3100     0               287   \n",
              "3  0.52  3.0   52   48  138           93         1250     0               260   \n",
              "4  0.90  3.9   29   34  238          199         1800     0               186   \n",
              "5  0.89  4.2   20   16   94          128         2300     0               320   \n",
              "6  0.69  3.8   23   50   93          182         1800     0               193   \n",
              "7  0.68  3.6   24   43   95          128         2250     0               291   \n",
              "8  0.81  3.4   68   88  101          139         1450     0               199   \n",
              "9  0.60  3.4   51   52  100          141         2350     0               295   \n",
              "\n",
              "   KDIGO  \n",
              "0      0  \n",
              "1      0  \n",
              "2      1  \n",
              "3      0  \n",
              "4      0  \n",
              "5      0  \n",
              "6      0  \n",
              "7      1  \n",
              "8      0  \n",
              "9      0  \n",
              "\n",
              "[10 rows x 21 columns]"
            ],
            "text/html": [
              "\n",
              "  <div id=\"df-72ee51c3-3323-4c4e-8f9b-25b53429badc\">\n",
              "    <div class=\"colab-df-container\">\n",
              "      <div>\n",
              "<style scoped>\n",
              "    .dataframe tbody tr th:only-of-type {\n",
              "        vertical-align: middle;\n",
              "    }\n",
              "\n",
              "    .dataframe tbody tr th {\n",
              "        vertical-align: top;\n",
              "    }\n",
              "\n",
              "    .dataframe thead th {\n",
              "        text-align: right;\n",
              "    }\n",
              "</style>\n",
              "<table border=\"1\" class=\"dataframe\">\n",
              "  <thead>\n",
              "    <tr style=\"text-align: right;\">\n",
              "      <th></th>\n",
              "      <th>AGE</th>\n",
              "      <th>SEX</th>\n",
              "      <th>BMI</th>\n",
              "      <th>OPEN_LAP</th>\n",
              "      <th>DM</th>\n",
              "      <th>TUMOR.SIZE</th>\n",
              "      <th>AFP</th>\n",
              "      <th>RAS</th>\n",
              "      <th>WBC</th>\n",
              "      <th>HB</th>\n",
              "      <th>...</th>\n",
              "      <th>CR</th>\n",
              "      <th>ALB</th>\n",
              "      <th>AST</th>\n",
              "      <th>ALT</th>\n",
              "      <th>GLU</th>\n",
              "      <th>CHOLESTEROL</th>\n",
              "      <th>CRYSTALLOID</th>\n",
              "      <th>PRBC</th>\n",
              "      <th>DURATION.OF.SURG</th>\n",
              "      <th>KDIGO</th>\n",
              "    </tr>\n",
              "  </thead>\n",
              "  <tbody>\n",
              "    <tr>\n",
              "      <th>0</th>\n",
              "      <td>64</td>\n",
              "      <td>0</td>\n",
              "      <td>23.3</td>\n",
              "      <td>0</td>\n",
              "      <td>0</td>\n",
              "      <td>1.200000</td>\n",
              "      <td>193.0</td>\n",
              "      <td>0</td>\n",
              "      <td>4.1</td>\n",
              "      <td>12.9</td>\n",
              "      <td>...</td>\n",
              "      <td>0.70</td>\n",
              "      <td>3.7</td>\n",
              "      <td>36</td>\n",
              "      <td>35</td>\n",
              "      <td>128</td>\n",
              "      <td>197</td>\n",
              "      <td>1800</td>\n",
              "      <td>0</td>\n",
              "      <td>214</td>\n",
              "      <td>0</td>\n",
              "    </tr>\n",
              "    <tr>\n",
              "      <th>1</th>\n",
              "      <td>57</td>\n",
              "      <td>1</td>\n",
              "      <td>28.9</td>\n",
              "      <td>0</td>\n",
              "      <td>0</td>\n",
              "      <td>1.500000</td>\n",
              "      <td>6.1</td>\n",
              "      <td>0</td>\n",
              "      <td>5.2</td>\n",
              "      <td>14.1</td>\n",
              "      <td>...</td>\n",
              "      <td>1.00</td>\n",
              "      <td>4.0</td>\n",
              "      <td>25</td>\n",
              "      <td>24</td>\n",
              "      <td>111</td>\n",
              "      <td>125</td>\n",
              "      <td>500</td>\n",
              "      <td>0</td>\n",
              "      <td>240</td>\n",
              "      <td>0</td>\n",
              "    </tr>\n",
              "    <tr>\n",
              "      <th>2</th>\n",
              "      <td>45</td>\n",
              "      <td>1</td>\n",
              "      <td>29.7</td>\n",
              "      <td>0</td>\n",
              "      <td>0</td>\n",
              "      <td>1.700000</td>\n",
              "      <td>1120.0</td>\n",
              "      <td>0</td>\n",
              "      <td>4.5</td>\n",
              "      <td>16.4</td>\n",
              "      <td>...</td>\n",
              "      <td>0.90</td>\n",
              "      <td>4.6</td>\n",
              "      <td>30</td>\n",
              "      <td>29</td>\n",
              "      <td>91</td>\n",
              "      <td>146</td>\n",
              "      <td>3100</td>\n",
              "      <td>0</td>\n",
              "      <td>287</td>\n",
              "      <td>1</td>\n",
              "    </tr>\n",
              "    <tr>\n",
              "      <th>3</th>\n",
              "      <td>57</td>\n",
              "      <td>1</td>\n",
              "      <td>23.8</td>\n",
              "      <td>0</td>\n",
              "      <td>0</td>\n",
              "      <td>6.600000</td>\n",
              "      <td>16.0</td>\n",
              "      <td>0</td>\n",
              "      <td>5.9</td>\n",
              "      <td>11.1</td>\n",
              "      <td>...</td>\n",
              "      <td>0.52</td>\n",
              "      <td>3.0</td>\n",
              "      <td>52</td>\n",
              "      <td>48</td>\n",
              "      <td>138</td>\n",
              "      <td>93</td>\n",
              "      <td>1250</td>\n",
              "      <td>0</td>\n",
              "      <td>260</td>\n",
              "      <td>0</td>\n",
              "    </tr>\n",
              "    <tr>\n",
              "      <th>4</th>\n",
              "      <td>51</td>\n",
              "      <td>1</td>\n",
              "      <td>23.6</td>\n",
              "      <td>0</td>\n",
              "      <td>1</td>\n",
              "      <td>1.007298</td>\n",
              "      <td>68.7</td>\n",
              "      <td>0</td>\n",
              "      <td>5.0</td>\n",
              "      <td>15.1</td>\n",
              "      <td>...</td>\n",
              "      <td>0.90</td>\n",
              "      <td>3.9</td>\n",
              "      <td>29</td>\n",
              "      <td>34</td>\n",
              "      <td>238</td>\n",
              "      <td>199</td>\n",
              "      <td>1800</td>\n",
              "      <td>0</td>\n",
              "      <td>186</td>\n",
              "      <td>0</td>\n",
              "    </tr>\n",
              "    <tr>\n",
              "      <th>5</th>\n",
              "      <td>60</td>\n",
              "      <td>1</td>\n",
              "      <td>30.4</td>\n",
              "      <td>0</td>\n",
              "      <td>0</td>\n",
              "      <td>6.700000</td>\n",
              "      <td>2.3</td>\n",
              "      <td>0</td>\n",
              "      <td>4.5</td>\n",
              "      <td>14.6</td>\n",
              "      <td>...</td>\n",
              "      <td>0.89</td>\n",
              "      <td>4.2</td>\n",
              "      <td>20</td>\n",
              "      <td>16</td>\n",
              "      <td>94</td>\n",
              "      <td>128</td>\n",
              "      <td>2300</td>\n",
              "      <td>0</td>\n",
              "      <td>320</td>\n",
              "      <td>0</td>\n",
              "    </tr>\n",
              "    <tr>\n",
              "      <th>6</th>\n",
              "      <td>70</td>\n",
              "      <td>1</td>\n",
              "      <td>22.2</td>\n",
              "      <td>0</td>\n",
              "      <td>0</td>\n",
              "      <td>2.000000</td>\n",
              "      <td>347.0</td>\n",
              "      <td>0</td>\n",
              "      <td>7.4</td>\n",
              "      <td>14.0</td>\n",
              "      <td>...</td>\n",
              "      <td>0.69</td>\n",
              "      <td>3.8</td>\n",
              "      <td>23</td>\n",
              "      <td>50</td>\n",
              "      <td>93</td>\n",
              "      <td>182</td>\n",
              "      <td>1800</td>\n",
              "      <td>0</td>\n",
              "      <td>193</td>\n",
              "      <td>0</td>\n",
              "    </tr>\n",
              "    <tr>\n",
              "      <th>7</th>\n",
              "      <td>62</td>\n",
              "      <td>1</td>\n",
              "      <td>27.9</td>\n",
              "      <td>0</td>\n",
              "      <td>0</td>\n",
              "      <td>2.800000</td>\n",
              "      <td>5.3</td>\n",
              "      <td>1</td>\n",
              "      <td>4.7</td>\n",
              "      <td>14.7</td>\n",
              "      <td>...</td>\n",
              "      <td>0.68</td>\n",
              "      <td>3.6</td>\n",
              "      <td>24</td>\n",
              "      <td>43</td>\n",
              "      <td>95</td>\n",
              "      <td>128</td>\n",
              "      <td>2250</td>\n",
              "      <td>0</td>\n",
              "      <td>291</td>\n",
              "      <td>1</td>\n",
              "    </tr>\n",
              "    <tr>\n",
              "      <th>8</th>\n",
              "      <td>40</td>\n",
              "      <td>1</td>\n",
              "      <td>24.9</td>\n",
              "      <td>0</td>\n",
              "      <td>0</td>\n",
              "      <td>4.000000</td>\n",
              "      <td>15.3</td>\n",
              "      <td>0</td>\n",
              "      <td>3.6</td>\n",
              "      <td>13.7</td>\n",
              "      <td>...</td>\n",
              "      <td>0.81</td>\n",
              "      <td>3.4</td>\n",
              "      <td>68</td>\n",
              "      <td>88</td>\n",
              "      <td>101</td>\n",
              "      <td>139</td>\n",
              "      <td>1450</td>\n",
              "      <td>0</td>\n",
              "      <td>199</td>\n",
              "      <td>0</td>\n",
              "    </tr>\n",
              "    <tr>\n",
              "      <th>9</th>\n",
              "      <td>70</td>\n",
              "      <td>0</td>\n",
              "      <td>33.4</td>\n",
              "      <td>0</td>\n",
              "      <td>0</td>\n",
              "      <td>2.500000</td>\n",
              "      <td>19.0</td>\n",
              "      <td>0</td>\n",
              "      <td>3.3</td>\n",
              "      <td>11.7</td>\n",
              "      <td>...</td>\n",
              "      <td>0.60</td>\n",
              "      <td>3.4</td>\n",
              "      <td>51</td>\n",
              "      <td>52</td>\n",
              "      <td>100</td>\n",
              "      <td>141</td>\n",
              "      <td>2350</td>\n",
              "      <td>0</td>\n",
              "      <td>295</td>\n",
              "      <td>0</td>\n",
              "    </tr>\n",
              "  </tbody>\n",
              "</table>\n",
              "<p>10 rows × 21 columns</p>\n",
              "</div>\n",
              "      <button class=\"colab-df-convert\" onclick=\"convertToInteractive('df-72ee51c3-3323-4c4e-8f9b-25b53429badc')\"\n",
              "              title=\"Convert this dataframe to an interactive table.\"\n",
              "              style=\"display:none;\">\n",
              "        \n",
              "  <svg xmlns=\"http://www.w3.org/2000/svg\" height=\"24px\"viewBox=\"0 0 24 24\"\n",
              "       width=\"24px\">\n",
              "    <path d=\"M0 0h24v24H0V0z\" fill=\"none\"/>\n",
              "    <path d=\"M18.56 5.44l.94 2.06.94-2.06 2.06-.94-2.06-.94-.94-2.06-.94 2.06-2.06.94zm-11 1L8.5 8.5l.94-2.06 2.06-.94-2.06-.94L8.5 2.5l-.94 2.06-2.06.94zm10 10l.94 2.06.94-2.06 2.06-.94-2.06-.94-.94-2.06-.94 2.06-2.06.94z\"/><path d=\"M17.41 7.96l-1.37-1.37c-.4-.4-.92-.59-1.43-.59-.52 0-1.04.2-1.43.59L10.3 9.45l-7.72 7.72c-.78.78-.78 2.05 0 2.83L4 21.41c.39.39.9.59 1.41.59.51 0 1.02-.2 1.41-.59l7.78-7.78 2.81-2.81c.8-.78.8-2.07 0-2.86zM5.41 20L4 18.59l7.72-7.72 1.47 1.35L5.41 20z\"/>\n",
              "  </svg>\n",
              "      </button>\n",
              "      \n",
              "  <style>\n",
              "    .colab-df-container {\n",
              "      display:flex;\n",
              "      flex-wrap:wrap;\n",
              "      gap: 12px;\n",
              "    }\n",
              "\n",
              "    .colab-df-convert {\n",
              "      background-color: #E8F0FE;\n",
              "      border: none;\n",
              "      border-radius: 50%;\n",
              "      cursor: pointer;\n",
              "      display: none;\n",
              "      fill: #1967D2;\n",
              "      height: 32px;\n",
              "      padding: 0 0 0 0;\n",
              "      width: 32px;\n",
              "    }\n",
              "\n",
              "    .colab-df-convert:hover {\n",
              "      background-color: #E2EBFA;\n",
              "      box-shadow: 0px 1px 2px rgba(60, 64, 67, 0.3), 0px 1px 3px 1px rgba(60, 64, 67, 0.15);\n",
              "      fill: #174EA6;\n",
              "    }\n",
              "\n",
              "    [theme=dark] .colab-df-convert {\n",
              "      background-color: #3B4455;\n",
              "      fill: #D2E3FC;\n",
              "    }\n",
              "\n",
              "    [theme=dark] .colab-df-convert:hover {\n",
              "      background-color: #434B5C;\n",
              "      box-shadow: 0px 1px 3px 1px rgba(0, 0, 0, 0.15);\n",
              "      filter: drop-shadow(0px 1px 2px rgba(0, 0, 0, 0.3));\n",
              "      fill: #FFFFFF;\n",
              "    }\n",
              "  </style>\n",
              "\n",
              "      <script>\n",
              "        const buttonEl =\n",
              "          document.querySelector('#df-72ee51c3-3323-4c4e-8f9b-25b53429badc button.colab-df-convert');\n",
              "        buttonEl.style.display =\n",
              "          google.colab.kernel.accessAllowed ? 'block' : 'none';\n",
              "\n",
              "        async function convertToInteractive(key) {\n",
              "          const element = document.querySelector('#df-72ee51c3-3323-4c4e-8f9b-25b53429badc');\n",
              "          const dataTable =\n",
              "            await google.colab.kernel.invokeFunction('convertToInteractive',\n",
              "                                                     [key], {});\n",
              "          if (!dataTable) return;\n",
              "\n",
              "          const docLinkHtml = 'Like what you see? Visit the ' +\n",
              "            '<a target=\"_blank\" href=https://colab.research.google.com/notebooks/data_table.ipynb>data table notebook</a>'\n",
              "            + ' to learn more about interactive tables.';\n",
              "          element.innerHTML = '';\n",
              "          dataTable['output_type'] = 'display_data';\n",
              "          await google.colab.output.renderOutput(dataTable, element);\n",
              "          const docLink = document.createElement('div');\n",
              "          docLink.innerHTML = docLinkHtml;\n",
              "          element.appendChild(docLink);\n",
              "        }\n",
              "      </script>\n",
              "    </div>\n",
              "  </div>\n",
              "  "
            ]
          },
          "metadata": {},
          "execution_count": 11
        }
      ],
      "source": [
        "import os\n",
        "import pandas as pd\n",
        "\n",
        "\n",
        "p1data = pd.read_csv(\"/content/sample_data/project1data.csv\",na_values=['NA','?','-'])\n",
        "p1data.head(10)"
      ]
    },
    {
      "cell_type": "markdown",
      "metadata": {
        "id": "PuER6TEqnnHx"
      },
      "source": [
        "Check for any null data"
      ]
    },
    {
      "cell_type": "code",
      "execution_count": null,
      "metadata": {
        "colab": {
          "base_uri": "https://localhost:8080/",
          "height": 79
        },
        "id": "rm5OfpGJnhfC",
        "outputId": "ffc23e75-7662-40cd-99b4-ab62d5c28d1f"
      },
      "outputs": [
        {
          "output_type": "execute_result",
          "data": {
            "text/plain": [
              "Empty DataFrame\n",
              "Columns: [AGE, SEX, BMI, OPEN_LAP, DM, TUMOR.SIZE, AFP, RAS, WBC, HB, PLT, CR, ALB, AST, ALT, GLU, CHOLESTEROL, CRYSTALLOID, PRBC, DURATION.OF.SURG, KDIGO]\n",
              "Index: []\n",
              "\n",
              "[0 rows x 21 columns]"
            ],
            "text/html": [
              "\n",
              "  <div id=\"df-41fe66f0-02ee-4fbf-a0ad-ee275146ee0c\">\n",
              "    <div class=\"colab-df-container\">\n",
              "      <div>\n",
              "<style scoped>\n",
              "    .dataframe tbody tr th:only-of-type {\n",
              "        vertical-align: middle;\n",
              "    }\n",
              "\n",
              "    .dataframe tbody tr th {\n",
              "        vertical-align: top;\n",
              "    }\n",
              "\n",
              "    .dataframe thead th {\n",
              "        text-align: right;\n",
              "    }\n",
              "</style>\n",
              "<table border=\"1\" class=\"dataframe\">\n",
              "  <thead>\n",
              "    <tr style=\"text-align: right;\">\n",
              "      <th></th>\n",
              "      <th>AGE</th>\n",
              "      <th>SEX</th>\n",
              "      <th>BMI</th>\n",
              "      <th>OPEN_LAP</th>\n",
              "      <th>DM</th>\n",
              "      <th>TUMOR.SIZE</th>\n",
              "      <th>AFP</th>\n",
              "      <th>RAS</th>\n",
              "      <th>WBC</th>\n",
              "      <th>HB</th>\n",
              "      <th>...</th>\n",
              "      <th>CR</th>\n",
              "      <th>ALB</th>\n",
              "      <th>AST</th>\n",
              "      <th>ALT</th>\n",
              "      <th>GLU</th>\n",
              "      <th>CHOLESTEROL</th>\n",
              "      <th>CRYSTALLOID</th>\n",
              "      <th>PRBC</th>\n",
              "      <th>DURATION.OF.SURG</th>\n",
              "      <th>KDIGO</th>\n",
              "    </tr>\n",
              "  </thead>\n",
              "  <tbody>\n",
              "  </tbody>\n",
              "</table>\n",
              "<p>0 rows × 21 columns</p>\n",
              "</div>\n",
              "      <button class=\"colab-df-convert\" onclick=\"convertToInteractive('df-41fe66f0-02ee-4fbf-a0ad-ee275146ee0c')\"\n",
              "              title=\"Convert this dataframe to an interactive table.\"\n",
              "              style=\"display:none;\">\n",
              "        \n",
              "  <svg xmlns=\"http://www.w3.org/2000/svg\" height=\"24px\"viewBox=\"0 0 24 24\"\n",
              "       width=\"24px\">\n",
              "    <path d=\"M0 0h24v24H0V0z\" fill=\"none\"/>\n",
              "    <path d=\"M18.56 5.44l.94 2.06.94-2.06 2.06-.94-2.06-.94-.94-2.06-.94 2.06-2.06.94zm-11 1L8.5 8.5l.94-2.06 2.06-.94-2.06-.94L8.5 2.5l-.94 2.06-2.06.94zm10 10l.94 2.06.94-2.06 2.06-.94-2.06-.94-.94-2.06-.94 2.06-2.06.94z\"/><path d=\"M17.41 7.96l-1.37-1.37c-.4-.4-.92-.59-1.43-.59-.52 0-1.04.2-1.43.59L10.3 9.45l-7.72 7.72c-.78.78-.78 2.05 0 2.83L4 21.41c.39.39.9.59 1.41.59.51 0 1.02-.2 1.41-.59l7.78-7.78 2.81-2.81c.8-.78.8-2.07 0-2.86zM5.41 20L4 18.59l7.72-7.72 1.47 1.35L5.41 20z\"/>\n",
              "  </svg>\n",
              "      </button>\n",
              "      \n",
              "  <style>\n",
              "    .colab-df-container {\n",
              "      display:flex;\n",
              "      flex-wrap:wrap;\n",
              "      gap: 12px;\n",
              "    }\n",
              "\n",
              "    .colab-df-convert {\n",
              "      background-color: #E8F0FE;\n",
              "      border: none;\n",
              "      border-radius: 50%;\n",
              "      cursor: pointer;\n",
              "      display: none;\n",
              "      fill: #1967D2;\n",
              "      height: 32px;\n",
              "      padding: 0 0 0 0;\n",
              "      width: 32px;\n",
              "    }\n",
              "\n",
              "    .colab-df-convert:hover {\n",
              "      background-color: #E2EBFA;\n",
              "      box-shadow: 0px 1px 2px rgba(60, 64, 67, 0.3), 0px 1px 3px 1px rgba(60, 64, 67, 0.15);\n",
              "      fill: #174EA6;\n",
              "    }\n",
              "\n",
              "    [theme=dark] .colab-df-convert {\n",
              "      background-color: #3B4455;\n",
              "      fill: #D2E3FC;\n",
              "    }\n",
              "\n",
              "    [theme=dark] .colab-df-convert:hover {\n",
              "      background-color: #434B5C;\n",
              "      box-shadow: 0px 1px 3px 1px rgba(0, 0, 0, 0.15);\n",
              "      filter: drop-shadow(0px 1px 2px rgba(0, 0, 0, 0.3));\n",
              "      fill: #FFFFFF;\n",
              "    }\n",
              "  </style>\n",
              "\n",
              "      <script>\n",
              "        const buttonEl =\n",
              "          document.querySelector('#df-41fe66f0-02ee-4fbf-a0ad-ee275146ee0c button.colab-df-convert');\n",
              "        buttonEl.style.display =\n",
              "          google.colab.kernel.accessAllowed ? 'block' : 'none';\n",
              "\n",
              "        async function convertToInteractive(key) {\n",
              "          const element = document.querySelector('#df-41fe66f0-02ee-4fbf-a0ad-ee275146ee0c');\n",
              "          const dataTable =\n",
              "            await google.colab.kernel.invokeFunction('convertToInteractive',\n",
              "                                                     [key], {});\n",
              "          if (!dataTable) return;\n",
              "\n",
              "          const docLinkHtml = 'Like what you see? Visit the ' +\n",
              "            '<a target=\"_blank\" href=https://colab.research.google.com/notebooks/data_table.ipynb>data table notebook</a>'\n",
              "            + ' to learn more about interactive tables.';\n",
              "          element.innerHTML = '';\n",
              "          dataTable['output_type'] = 'display_data';\n",
              "          await google.colab.output.renderOutput(dataTable, element);\n",
              "          const docLink = document.createElement('div');\n",
              "          docLink.innerHTML = docLinkHtml;\n",
              "          element.appendChild(docLink);\n",
              "        }\n",
              "      </script>\n",
              "    </div>\n",
              "  </div>\n",
              "  "
            ]
          },
          "metadata": {},
          "execution_count": 5
        }
      ],
      "source": [
        "p1data[p1data.isnull().any(axis=1)]"
      ]
    },
    {
      "cell_type": "markdown",
      "metadata": {
        "id": "VaPU4QTlsWev"
      },
      "source": [
        "Adding weights to the data set or normalizing the columns in the data set"
      ]
    },
    {
      "cell_type": "code",
      "execution_count": null,
      "metadata": {
        "colab": {
          "base_uri": "https://localhost:8080/",
          "height": 488
        },
        "id": "wr1wpomsd8qV",
        "outputId": "7377f120-afeb-477e-b5af-c31dff811dac"
      },
      "outputs": [
        {
          "output_type": "execute_result",
          "data": {
            "text/plain": [
              "      AGE  SEX       BMI  OPEN_LAP  DM  TUMOR.SIZE       AFP  RAS       WBC  \\\n",
              "0      64    0 -0.325363         0   0   -0.894353 -0.149907    0 -0.743320   \n",
              "1      57    1  1.637571         0   0   -0.814569 -0.152852    0 -0.123302   \n",
              "2      45    1  1.917990         0   0   -0.761380 -0.135299    0 -0.517859   \n",
              "3      57    1 -0.150101         0   0    0.541758 -0.152696    0  0.271255   \n",
              "4      51    1 -0.220205         0   1   -0.945602 -0.151865    0 -0.236032   \n",
              "...   ...  ...       ...       ...  ..         ...       ...  ...       ...   \n",
              "1168   44    1  0.270528         1   0   -0.628407 -0.152934    0 -0.292398   \n",
              "1169   57    1 -0.255258         1   0   -0.601812 -0.152893    0  0.271255   \n",
              "1170   49    1 -0.991358         1   0   -0.734785 -0.152902    0  0.778542   \n",
              "1171   43    1  0.831366         1   0    0.231737  0.927240    0  0.891272   \n",
              "1172   42    1 -1.376934         1   0   -1.027326 -0.152905    0 -0.010571   \n",
              "\n",
              "            HB  ...        CR       ALB       AST       ALT       GLU  \\\n",
              "0    -0.653869  ... -0.742450 -0.254106 -0.123957 -0.073318  0.202328   \n",
              "1     0.101041  ...  1.001663  0.473477 -0.483055 -0.464557 -0.158003   \n",
              "2     1.547951  ...  0.420292  1.928642 -0.319829 -0.286721 -0.581922   \n",
              "3    -1.786234  ... -1.788918 -1.951799  0.398366  0.389056  0.414288   \n",
              "4     0.730132  ...  0.420292  0.230949 -0.352474 -0.108885  2.533884   \n",
              "...        ...  ...       ...       ...       ...       ...       ...   \n",
              "1168  0.226859  ...  0.071470  0.230949 -0.646281 -0.820230 -0.475942   \n",
              "1169  0.604314  ... -0.800587 -0.254106 -0.287183  0.104519  0.499072   \n",
              "1170  0.415586  ...  1.176075  2.413697 -0.678926 -0.926931 -0.497138   \n",
              "1171  1.296315  ...  0.420292  0.230949 -0.678926 -0.713528 -0.581922   \n",
              "1172  0.855951  ...  0.652841  0.958532 -0.352474 -0.108885  0.181132   \n",
              "\n",
              "      CHOLESTEROL  CRYSTALLOID  PRBC  DURATION.OF.SURG  KDIGO  \n",
              "0        0.951455    -0.471385     0         -0.702916      0  \n",
              "1       -1.091513    -1.793512     0         -0.382575      0  \n",
              "2       -0.495648     0.850743     0          0.196503      1  \n",
              "3       -1.999499    -1.030746     0         -0.136159      0  \n",
              "4        1.008204    -0.471385     0         -1.047898      0  \n",
              "...           ...          ...   ...               ...    ...  \n",
              "1168    -1.091513    -0.064576     0         -0.308650      0  \n",
              "1169    -0.353775    -1.539257     0         -0.887728      0  \n",
              "1170    -0.637520    -0.878193     0         -1.355918      0  \n",
              "1171     0.100218    -1.285002     0         -1.318956      0  \n",
              "1172     0.327214    -0.827342     0         -1.368239      0  \n",
              "\n",
              "[1173 rows x 21 columns]"
            ],
            "text/html": [
              "\n",
              "  <div id=\"df-0e159100-ddf3-4a33-9ef6-d40876af36a9\">\n",
              "    <div class=\"colab-df-container\">\n",
              "      <div>\n",
              "<style scoped>\n",
              "    .dataframe tbody tr th:only-of-type {\n",
              "        vertical-align: middle;\n",
              "    }\n",
              "\n",
              "    .dataframe tbody tr th {\n",
              "        vertical-align: top;\n",
              "    }\n",
              "\n",
              "    .dataframe thead th {\n",
              "        text-align: right;\n",
              "    }\n",
              "</style>\n",
              "<table border=\"1\" class=\"dataframe\">\n",
              "  <thead>\n",
              "    <tr style=\"text-align: right;\">\n",
              "      <th></th>\n",
              "      <th>AGE</th>\n",
              "      <th>SEX</th>\n",
              "      <th>BMI</th>\n",
              "      <th>OPEN_LAP</th>\n",
              "      <th>DM</th>\n",
              "      <th>TUMOR.SIZE</th>\n",
              "      <th>AFP</th>\n",
              "      <th>RAS</th>\n",
              "      <th>WBC</th>\n",
              "      <th>HB</th>\n",
              "      <th>...</th>\n",
              "      <th>CR</th>\n",
              "      <th>ALB</th>\n",
              "      <th>AST</th>\n",
              "      <th>ALT</th>\n",
              "      <th>GLU</th>\n",
              "      <th>CHOLESTEROL</th>\n",
              "      <th>CRYSTALLOID</th>\n",
              "      <th>PRBC</th>\n",
              "      <th>DURATION.OF.SURG</th>\n",
              "      <th>KDIGO</th>\n",
              "    </tr>\n",
              "  </thead>\n",
              "  <tbody>\n",
              "    <tr>\n",
              "      <th>0</th>\n",
              "      <td>64</td>\n",
              "      <td>0</td>\n",
              "      <td>-0.325363</td>\n",
              "      <td>0</td>\n",
              "      <td>0</td>\n",
              "      <td>-0.894353</td>\n",
              "      <td>-0.149907</td>\n",
              "      <td>0</td>\n",
              "      <td>-0.743320</td>\n",
              "      <td>-0.653869</td>\n",
              "      <td>...</td>\n",
              "      <td>-0.742450</td>\n",
              "      <td>-0.254106</td>\n",
              "      <td>-0.123957</td>\n",
              "      <td>-0.073318</td>\n",
              "      <td>0.202328</td>\n",
              "      <td>0.951455</td>\n",
              "      <td>-0.471385</td>\n",
              "      <td>0</td>\n",
              "      <td>-0.702916</td>\n",
              "      <td>0</td>\n",
              "    </tr>\n",
              "    <tr>\n",
              "      <th>1</th>\n",
              "      <td>57</td>\n",
              "      <td>1</td>\n",
              "      <td>1.637571</td>\n",
              "      <td>0</td>\n",
              "      <td>0</td>\n",
              "      <td>-0.814569</td>\n",
              "      <td>-0.152852</td>\n",
              "      <td>0</td>\n",
              "      <td>-0.123302</td>\n",
              "      <td>0.101041</td>\n",
              "      <td>...</td>\n",
              "      <td>1.001663</td>\n",
              "      <td>0.473477</td>\n",
              "      <td>-0.483055</td>\n",
              "      <td>-0.464557</td>\n",
              "      <td>-0.158003</td>\n",
              "      <td>-1.091513</td>\n",
              "      <td>-1.793512</td>\n",
              "      <td>0</td>\n",
              "      <td>-0.382575</td>\n",
              "      <td>0</td>\n",
              "    </tr>\n",
              "    <tr>\n",
              "      <th>2</th>\n",
              "      <td>45</td>\n",
              "      <td>1</td>\n",
              "      <td>1.917990</td>\n",
              "      <td>0</td>\n",
              "      <td>0</td>\n",
              "      <td>-0.761380</td>\n",
              "      <td>-0.135299</td>\n",
              "      <td>0</td>\n",
              "      <td>-0.517859</td>\n",
              "      <td>1.547951</td>\n",
              "      <td>...</td>\n",
              "      <td>0.420292</td>\n",
              "      <td>1.928642</td>\n",
              "      <td>-0.319829</td>\n",
              "      <td>-0.286721</td>\n",
              "      <td>-0.581922</td>\n",
              "      <td>-0.495648</td>\n",
              "      <td>0.850743</td>\n",
              "      <td>0</td>\n",
              "      <td>0.196503</td>\n",
              "      <td>1</td>\n",
              "    </tr>\n",
              "    <tr>\n",
              "      <th>3</th>\n",
              "      <td>57</td>\n",
              "      <td>1</td>\n",
              "      <td>-0.150101</td>\n",
              "      <td>0</td>\n",
              "      <td>0</td>\n",
              "      <td>0.541758</td>\n",
              "      <td>-0.152696</td>\n",
              "      <td>0</td>\n",
              "      <td>0.271255</td>\n",
              "      <td>-1.786234</td>\n",
              "      <td>...</td>\n",
              "      <td>-1.788918</td>\n",
              "      <td>-1.951799</td>\n",
              "      <td>0.398366</td>\n",
              "      <td>0.389056</td>\n",
              "      <td>0.414288</td>\n",
              "      <td>-1.999499</td>\n",
              "      <td>-1.030746</td>\n",
              "      <td>0</td>\n",
              "      <td>-0.136159</td>\n",
              "      <td>0</td>\n",
              "    </tr>\n",
              "    <tr>\n",
              "      <th>4</th>\n",
              "      <td>51</td>\n",
              "      <td>1</td>\n",
              "      <td>-0.220205</td>\n",
              "      <td>0</td>\n",
              "      <td>1</td>\n",
              "      <td>-0.945602</td>\n",
              "      <td>-0.151865</td>\n",
              "      <td>0</td>\n",
              "      <td>-0.236032</td>\n",
              "      <td>0.730132</td>\n",
              "      <td>...</td>\n",
              "      <td>0.420292</td>\n",
              "      <td>0.230949</td>\n",
              "      <td>-0.352474</td>\n",
              "      <td>-0.108885</td>\n",
              "      <td>2.533884</td>\n",
              "      <td>1.008204</td>\n",
              "      <td>-0.471385</td>\n",
              "      <td>0</td>\n",
              "      <td>-1.047898</td>\n",
              "      <td>0</td>\n",
              "    </tr>\n",
              "    <tr>\n",
              "      <th>...</th>\n",
              "      <td>...</td>\n",
              "      <td>...</td>\n",
              "      <td>...</td>\n",
              "      <td>...</td>\n",
              "      <td>...</td>\n",
              "      <td>...</td>\n",
              "      <td>...</td>\n",
              "      <td>...</td>\n",
              "      <td>...</td>\n",
              "      <td>...</td>\n",
              "      <td>...</td>\n",
              "      <td>...</td>\n",
              "      <td>...</td>\n",
              "      <td>...</td>\n",
              "      <td>...</td>\n",
              "      <td>...</td>\n",
              "      <td>...</td>\n",
              "      <td>...</td>\n",
              "      <td>...</td>\n",
              "      <td>...</td>\n",
              "      <td>...</td>\n",
              "    </tr>\n",
              "    <tr>\n",
              "      <th>1168</th>\n",
              "      <td>44</td>\n",
              "      <td>1</td>\n",
              "      <td>0.270528</td>\n",
              "      <td>1</td>\n",
              "      <td>0</td>\n",
              "      <td>-0.628407</td>\n",
              "      <td>-0.152934</td>\n",
              "      <td>0</td>\n",
              "      <td>-0.292398</td>\n",
              "      <td>0.226859</td>\n",
              "      <td>...</td>\n",
              "      <td>0.071470</td>\n",
              "      <td>0.230949</td>\n",
              "      <td>-0.646281</td>\n",
              "      <td>-0.820230</td>\n",
              "      <td>-0.475942</td>\n",
              "      <td>-1.091513</td>\n",
              "      <td>-0.064576</td>\n",
              "      <td>0</td>\n",
              "      <td>-0.308650</td>\n",
              "      <td>0</td>\n",
              "    </tr>\n",
              "    <tr>\n",
              "      <th>1169</th>\n",
              "      <td>57</td>\n",
              "      <td>1</td>\n",
              "      <td>-0.255258</td>\n",
              "      <td>1</td>\n",
              "      <td>0</td>\n",
              "      <td>-0.601812</td>\n",
              "      <td>-0.152893</td>\n",
              "      <td>0</td>\n",
              "      <td>0.271255</td>\n",
              "      <td>0.604314</td>\n",
              "      <td>...</td>\n",
              "      <td>-0.800587</td>\n",
              "      <td>-0.254106</td>\n",
              "      <td>-0.287183</td>\n",
              "      <td>0.104519</td>\n",
              "      <td>0.499072</td>\n",
              "      <td>-0.353775</td>\n",
              "      <td>-1.539257</td>\n",
              "      <td>0</td>\n",
              "      <td>-0.887728</td>\n",
              "      <td>0</td>\n",
              "    </tr>\n",
              "    <tr>\n",
              "      <th>1170</th>\n",
              "      <td>49</td>\n",
              "      <td>1</td>\n",
              "      <td>-0.991358</td>\n",
              "      <td>1</td>\n",
              "      <td>0</td>\n",
              "      <td>-0.734785</td>\n",
              "      <td>-0.152902</td>\n",
              "      <td>0</td>\n",
              "      <td>0.778542</td>\n",
              "      <td>0.415586</td>\n",
              "      <td>...</td>\n",
              "      <td>1.176075</td>\n",
              "      <td>2.413697</td>\n",
              "      <td>-0.678926</td>\n",
              "      <td>-0.926931</td>\n",
              "      <td>-0.497138</td>\n",
              "      <td>-0.637520</td>\n",
              "      <td>-0.878193</td>\n",
              "      <td>0</td>\n",
              "      <td>-1.355918</td>\n",
              "      <td>0</td>\n",
              "    </tr>\n",
              "    <tr>\n",
              "      <th>1171</th>\n",
              "      <td>43</td>\n",
              "      <td>1</td>\n",
              "      <td>0.831366</td>\n",
              "      <td>1</td>\n",
              "      <td>0</td>\n",
              "      <td>0.231737</td>\n",
              "      <td>0.927240</td>\n",
              "      <td>0</td>\n",
              "      <td>0.891272</td>\n",
              "      <td>1.296315</td>\n",
              "      <td>...</td>\n",
              "      <td>0.420292</td>\n",
              "      <td>0.230949</td>\n",
              "      <td>-0.678926</td>\n",
              "      <td>-0.713528</td>\n",
              "      <td>-0.581922</td>\n",
              "      <td>0.100218</td>\n",
              "      <td>-1.285002</td>\n",
              "      <td>0</td>\n",
              "      <td>-1.318956</td>\n",
              "      <td>0</td>\n",
              "    </tr>\n",
              "    <tr>\n",
              "      <th>1172</th>\n",
              "      <td>42</td>\n",
              "      <td>1</td>\n",
              "      <td>-1.376934</td>\n",
              "      <td>1</td>\n",
              "      <td>0</td>\n",
              "      <td>-1.027326</td>\n",
              "      <td>-0.152905</td>\n",
              "      <td>0</td>\n",
              "      <td>-0.010571</td>\n",
              "      <td>0.855951</td>\n",
              "      <td>...</td>\n",
              "      <td>0.652841</td>\n",
              "      <td>0.958532</td>\n",
              "      <td>-0.352474</td>\n",
              "      <td>-0.108885</td>\n",
              "      <td>0.181132</td>\n",
              "      <td>0.327214</td>\n",
              "      <td>-0.827342</td>\n",
              "      <td>0</td>\n",
              "      <td>-1.368239</td>\n",
              "      <td>0</td>\n",
              "    </tr>\n",
              "  </tbody>\n",
              "</table>\n",
              "<p>1173 rows × 21 columns</p>\n",
              "</div>\n",
              "      <button class=\"colab-df-convert\" onclick=\"convertToInteractive('df-0e159100-ddf3-4a33-9ef6-d40876af36a9')\"\n",
              "              title=\"Convert this dataframe to an interactive table.\"\n",
              "              style=\"display:none;\">\n",
              "        \n",
              "  <svg xmlns=\"http://www.w3.org/2000/svg\" height=\"24px\"viewBox=\"0 0 24 24\"\n",
              "       width=\"24px\">\n",
              "    <path d=\"M0 0h24v24H0V0z\" fill=\"none\"/>\n",
              "    <path d=\"M18.56 5.44l.94 2.06.94-2.06 2.06-.94-2.06-.94-.94-2.06-.94 2.06-2.06.94zm-11 1L8.5 8.5l.94-2.06 2.06-.94-2.06-.94L8.5 2.5l-.94 2.06-2.06.94zm10 10l.94 2.06.94-2.06 2.06-.94-2.06-.94-.94-2.06-.94 2.06-2.06.94z\"/><path d=\"M17.41 7.96l-1.37-1.37c-.4-.4-.92-.59-1.43-.59-.52 0-1.04.2-1.43.59L10.3 9.45l-7.72 7.72c-.78.78-.78 2.05 0 2.83L4 21.41c.39.39.9.59 1.41.59.51 0 1.02-.2 1.41-.59l7.78-7.78 2.81-2.81c.8-.78.8-2.07 0-2.86zM5.41 20L4 18.59l7.72-7.72 1.47 1.35L5.41 20z\"/>\n",
              "  </svg>\n",
              "      </button>\n",
              "      \n",
              "  <style>\n",
              "    .colab-df-container {\n",
              "      display:flex;\n",
              "      flex-wrap:wrap;\n",
              "      gap: 12px;\n",
              "    }\n",
              "\n",
              "    .colab-df-convert {\n",
              "      background-color: #E8F0FE;\n",
              "      border: none;\n",
              "      border-radius: 50%;\n",
              "      cursor: pointer;\n",
              "      display: none;\n",
              "      fill: #1967D2;\n",
              "      height: 32px;\n",
              "      padding: 0 0 0 0;\n",
              "      width: 32px;\n",
              "    }\n",
              "\n",
              "    .colab-df-convert:hover {\n",
              "      background-color: #E2EBFA;\n",
              "      box-shadow: 0px 1px 2px rgba(60, 64, 67, 0.3), 0px 1px 3px 1px rgba(60, 64, 67, 0.15);\n",
              "      fill: #174EA6;\n",
              "    }\n",
              "\n",
              "    [theme=dark] .colab-df-convert {\n",
              "      background-color: #3B4455;\n",
              "      fill: #D2E3FC;\n",
              "    }\n",
              "\n",
              "    [theme=dark] .colab-df-convert:hover {\n",
              "      background-color: #434B5C;\n",
              "      box-shadow: 0px 1px 3px 1px rgba(0, 0, 0, 0.15);\n",
              "      filter: drop-shadow(0px 1px 2px rgba(0, 0, 0, 0.3));\n",
              "      fill: #FFFFFF;\n",
              "    }\n",
              "  </style>\n",
              "\n",
              "      <script>\n",
              "        const buttonEl =\n",
              "          document.querySelector('#df-0e159100-ddf3-4a33-9ef6-d40876af36a9 button.colab-df-convert');\n",
              "        buttonEl.style.display =\n",
              "          google.colab.kernel.accessAllowed ? 'block' : 'none';\n",
              "\n",
              "        async function convertToInteractive(key) {\n",
              "          const element = document.querySelector('#df-0e159100-ddf3-4a33-9ef6-d40876af36a9');\n",
              "          const dataTable =\n",
              "            await google.colab.kernel.invokeFunction('convertToInteractive',\n",
              "                                                     [key], {});\n",
              "          if (!dataTable) return;\n",
              "\n",
              "          const docLinkHtml = 'Like what you see? Visit the ' +\n",
              "            '<a target=\"_blank\" href=https://colab.research.google.com/notebooks/data_table.ipynb>data table notebook</a>'\n",
              "            + ' to learn more about interactive tables.';\n",
              "          element.innerHTML = '';\n",
              "          dataTable['output_type'] = 'display_data';\n",
              "          await google.colab.output.renderOutput(dataTable, element);\n",
              "          const docLink = document.createElement('div');\n",
              "          docLink.innerHTML = docLinkHtml;\n",
              "          element.appendChild(docLink);\n",
              "        }\n",
              "      </script>\n",
              "    </div>\n",
              "  </div>\n",
              "  "
            ]
          },
          "metadata": {},
          "execution_count": 8
        }
      ],
      "source": [
        "\n",
        "encode_numeric_zscore(p1data, 'BMI')\n",
        "encode_numeric_zscore(p1data, 'TUMOR.SIZE')\n",
        "encode_numeric_zscore(p1data, 'AFP')\n",
        "encode_numeric_zscore(p1data, 'WBC')\n",
        "encode_numeric_zscore(p1data, 'HB')\n",
        "encode_numeric_zscore(p1data, 'PLT')\n",
        "encode_numeric_zscore(p1data, 'CR')\n",
        "encode_numeric_zscore(p1data, 'ALB')\n",
        "encode_numeric_zscore(p1data, 'AST')\n",
        "encode_numeric_zscore(p1data, 'ALT')\n",
        "encode_numeric_zscore(p1data, 'GLU')\n",
        "encode_numeric_zscore(p1data, 'CHOLESTEROL')\n",
        "encode_numeric_zscore(p1data, 'CRYSTALLOID')\n",
        "encode_numeric_zscore(p1data, 'DURATION.OF.SURG')\n",
        "\n",
        "p1data"
      ]
    },
    {
      "cell_type": "code",
      "source": [
        "from imblearn.over_sampling import SMOTE\n",
        "from imblearn.under_sampling import RandomUnderSampler\n",
        "from imblearn.pipeline import Pipeline\n",
        "x,y = to_xy_1d(p1data,\"KDIGO\")\n",
        "\n",
        "from sklearn.model_selection import train_test_split\n",
        "x_train,x_test,y_train,y_test=train_test_split(x,y,test_size=0.20,random_state=0)\n",
        "\n",
        "over = SMOTE(sampling_strategy=0.1)\n",
        "under = RandomUnderSampler(sampling_strategy=0.5)\n",
        "steps = [('o', over), ('u', under)]\n",
        "pipeline = Pipeline(steps=steps)\n",
        "# transform the dataset\n",
        "x_oversample, y_oversample = pipeline.fit_resample(x_train, y_train)"
      ],
      "metadata": {
        "id": "KklSiZ1QQy3_"
      },
      "execution_count": null,
      "outputs": []
    },
    {
      "cell_type": "code",
      "source": [
        "x"
      ],
      "metadata": {
        "colab": {
          "base_uri": "https://localhost:8080/"
        },
        "id": "IlezfySRQSdd",
        "outputId": "0758c42e-c662-436c-e06b-c9078ceb2654"
      },
      "execution_count": null,
      "outputs": [
        {
          "output_type": "execute_result",
          "data": {
            "text/plain": [
              "array([[64.        ,  0.        , -0.32536256, ..., -0.4713846 ,\n",
              "         0.        , -0.7029158 ],\n",
              "       [57.        ,  1.        ,  1.6375706 , ..., -1.7935123 ,\n",
              "         0.        , -0.38257498],\n",
              "       [45.        ,  1.        ,  1.9179896 , ...,  0.8507431 ,\n",
              "         0.        ,  0.19650257],\n",
              "       ...,\n",
              "       [49.        ,  1.        , -0.99135774, ..., -0.87819314,\n",
              "         0.        , -1.355918  ],\n",
              "       [43.        ,  1.        ,  0.8313659 , ..., -1.2850016 ,\n",
              "         0.        , -1.3189557 ],\n",
              "       [42.        ,  1.        , -1.3769339 , ..., -0.8273421 ,\n",
              "         0.        , -1.3682389 ]], dtype=float32)"
            ]
          },
          "metadata": {},
          "execution_count": 11
        }
      ]
    },
    {
      "cell_type": "markdown",
      "metadata": {
        "id": "NPN1IiOGhlgW"
      },
      "source": [
        "# **Logistic Regression Model**\n",
        "\n"
      ]
    },
    {
      "cell_type": "markdown",
      "source": [
        "Logistic Regression model without over sampling"
      ],
      "metadata": {
        "id": "-Wgx-M-RbSVJ"
      }
    },
    {
      "cell_type": "code",
      "execution_count": null,
      "metadata": {
        "id": "S_5_Ed2DmqeM"
      },
      "outputs": [],
      "source": [
        "from sklearn.linear_model import LogisticRegression\n",
        "\n",
        "# instantiate the model (using the default parameters)\n",
        "logisticregressionfit = LogisticRegression(solver='lbfgs', max_iter=1000,class_weight = 'balanced', multi_class='ovr')\n",
        "\n",
        "# fit the model with data\n",
        "logisticregressionfit.fit(x_train,y_train)\n",
        "\n",
        "y_logistic_pred=logisticregressionfit.predict(x_test)"
      ]
    },
    {
      "cell_type": "code",
      "execution_count": null,
      "metadata": {
        "colab": {
          "base_uri": "https://localhost:8080/",
          "height": 623
        },
        "id": "6M-tpxECmxau",
        "outputId": "9fd85686-83cd-4af1-eae1-0a0c83e0d5c3"
      },
      "outputs": [
        {
          "output_type": "stream",
          "name": "stdout",
          "text": [
            "[[149  66]\n",
            " [  9  11]]\n",
            "\n",
            "Plotting confusion matrix\n"
          ]
        },
        {
          "output_type": "display_data",
          "data": {
            "text/plain": [
              "<Figure size 432x288 with 2 Axes>"
            ],
            "image/png": "[encoded data removed]"
          },
          "metadata": {
            "needs_background": "light"
          }
        },
        {
          "output_type": "stream",
          "name": "stdout",
          "text": [
            "\n"
          ]
        },
        {
          "output_type": "error",
          "ename": "NameError",
          "evalue": "ignored",
          "traceback": [
            "\u001b[0;31m---------------------------------------------------------------------------\u001b[0m",
            "\u001b[0;31mNameError\u001b[0m                                 Traceback (most recent call last)",
            "\u001b[0;32m<ipython-input-21-b47b92584a6d>\u001b[0m in \u001b[0;36m<module>\u001b[0;34m\u001b[0m\n\u001b[1;32m     18\u001b[0m \u001b[0;34m\u001b[0m\u001b[0m\n\u001b[1;32m     19\u001b[0m \u001b[0;31m#Precision\u001b[0m\u001b[0;34m\u001b[0m\u001b[0;34m\u001b[0m\u001b[0;34m\u001b[0m\u001b[0m\n\u001b[0;32m---> 20\u001b[0;31m \u001b[0mpr_score\u001b[0m \u001b[0;34m=\u001b[0m \u001b[0mmetrics\u001b[0m\u001b[0;34m.\u001b[0m\u001b[0mprecision_score\u001b[0m\u001b[0;34m(\u001b[0m\u001b[0my_test\u001b[0m\u001b[0;34m,\u001b[0m \u001b[0my_logistic_pred\u001b[0m\u001b[0;34m)\u001b[0m\u001b[0;34m\u001b[0m\u001b[0;34m\u001b[0m\u001b[0m\n\u001b[0m\u001b[1;32m     21\u001b[0m \u001b[0mprint\u001b[0m\u001b[0;34m(\u001b[0m\u001b[0;34m\"Precision score : {}\"\u001b[0m\u001b[0;34m.\u001b[0m\u001b[0mformat\u001b[0m\u001b[0;34m(\u001b[0m\u001b[0mpr_score\u001b[0m\u001b[0;34m)\u001b[0m\u001b[0;34m)\u001b[0m\u001b[0;34m\u001b[0m\u001b[0;34m\u001b[0m\u001b[0m\n\u001b[1;32m     22\u001b[0m \u001b[0;34m\u001b[0m\u001b[0m\n",
            "\u001b[0;31mNameError\u001b[0m: name 'metrics' is not defined"
          ]
        }
      ],
      "source": [
        "import numpy as np\n",
        "from sklearn import svm, datasets\n",
        "from sklearn.metrics import confusion_matrix, classification_report\n",
        "\n",
        "# Compute confusion matrix for Logistic regression\n",
        "cm = confusion_matrix(y_test, y_logistic_pred)\n",
        "print(cm)\n",
        "\n",
        "print()\n",
        "kdigoop = encode_text_index(p1data,\"KDIGO\")\n",
        "print('Plotting confusion matrix')\n",
        "\n",
        "plt.figure()\n",
        "plot_confusion_matrix(cm, kdigoop)\n",
        "plt.show()\n",
        "\n",
        "print()\n",
        "\n",
        "#Precision\n",
        "pr_score = metrics.precision_score(y_test, y_logistic_pred)\n",
        "print(\"Precision score : {}\".format(pr_score))\n",
        "\n",
        "#Recall\n",
        "re_score = metrics.recall_score(y_test, y_logistic_pred)\n",
        "print(\"Recall score    : {}\".format(re_score))\n",
        "\n",
        "#F1 Score\n",
        "f1_score = metrics.f1_score(y_test, y_logistic_pred)\n",
        "print(\"F1 score        : {}\".format(f1_score))\n",
        "\n",
        "print()\n",
        "\n",
        "target_names = ['NON AKI', 'AKI']\n",
        "print(classification_report(y_test, y_logistic_pred,target_names=target_names))"
      ]
    },
    {
      "cell_type": "code",
      "execution_count": null,
      "metadata": {
        "colab": {
          "base_uri": "https://localhost:8080/",
          "height": 295
        },
        "id": "z5M9SU1Gm1gX",
        "outputId": "ed3208c8-26e0-4692-e20c-03ffdd67a196"
      },
      "outputs": [
        {
          "output_type": "display_data",
          "data": {
            "text/plain": [
              "<Figure size 432x288 with 1 Axes>"
            ],
            "image/png": "[encoded data removed]"
          },
          "metadata": {
            "needs_background": "light"
          }
        }
      ],
      "source": [
        "plot_roc(y_logistic_pred,y_test)\n"
      ]
    },
    {
      "cell_type": "markdown",
      "source": [
        "Logistic Regression with over sampled data"
      ],
      "metadata": {
        "id": "4JMZ9g0TRlF1"
      }
    },
    {
      "cell_type": "code",
      "source": [
        "from numpy import mean\n",
        "from sklearn.linear_model import LogisticRegression\n",
        "from sklearn.datasets import make_classification\n",
        "from sklearn.model_selection import train_test_split\n",
        "\n",
        "\n",
        "# instantiate the model (using the default parameters)\n",
        "logisticregressionfit = LogisticRegression(solver='lbfgs', max_iter=400,class_weight = 'balanced', multi_class='ovr')\n",
        "\n",
        "# fit the model with data\n",
        "logisticregressionfit.fit(x_oversample,y_oversample)\n",
        "Y_logistic_sampled_pred=logisticregressionfit.predict(x_test)\n"
      ],
      "metadata": {
        "id": "qg-HxB7pGDKw"
      },
      "execution_count": null,
      "outputs": []
    },
    {
      "cell_type": "code",
      "source": [
        "import numpy as np\n",
        "from sklearn import svm, datasets\n",
        "from sklearn.metrics import confusion_matrix, classification_report\n",
        "\n",
        "# Compute confusion matrix for Logistic regression\n",
        "cm = confusion_matrix(y_test, Y_logistic_sampled_pred)\n",
        "print(cm)\n",
        "\n",
        "print()\n",
        "kdigoop = encode_text_index(p1data,\"KDIGO\")\n",
        "print('Plotting confusion matrix')\n",
        "\n",
        "plt.figure()\n",
        "plot_confusion_matrix(cm, kdigoop)\n",
        "plt.show()\n",
        "\n",
        "print()\n",
        "\n",
        "#Precision\n",
        "pr_score = metrics.precision_score(y_test, Y_logistic_sampled_pred)\n",
        "print(\"Precision score : {}\".format(pr_score))\n",
        "\n",
        "#Recall\n",
        "re_score = metrics.recall_score(y_test, Y_logistic_sampled_pred)\n",
        "print(\"Recall score    : {}\".format(re_score))\n",
        "\n",
        "#F1 Score\n",
        "f1_score = metrics.f1_score(y_test, Y_logistic_sampled_pred)\n",
        "print(\"F1 score        : {}\".format(f1_score))\n",
        "\n",
        "print()\n",
        "\n",
        "target_names = ['NON AKI', 'AKI']\n",
        "print(classification_report(y_test, Y_logistic_sampled_pred,target_names=target_names))"
      ],
      "metadata": {
        "colab": {
          "base_uri": "https://localhost:8080/",
          "height": 632
        },
        "id": "nGnWpKExQnDg",
        "outputId": "b2b50394-51ff-41c8-dbca-d09e532b58ce"
      },
      "execution_count": null,
      "outputs": [
        {
          "output_type": "stream",
          "name": "stdout",
          "text": [
            "[[143  72]\n",
            " [  8  12]]\n",
            "\n",
            "Plotting confusion matrix\n"
          ]
        },
        {
          "output_type": "display_data",
          "data": {
            "text/plain": [
              "<Figure size 432x288 with 2 Axes>"
            ],
            "image/png": "[encoded data removed]"
          },
          "metadata": {
            "needs_background": "light"
          }
        },
        {
          "output_type": "stream",
          "name": "stdout",
          "text": [
            "\n",
            "Precision score : 0.14285714285714285\n",
            "Recall score    : 0.6\n",
            "F1 score        : 0.23076923076923073\n",
            "\n",
            "              precision    recall  f1-score   support\n",
            "\n",
            "         AKI       0.95      0.67      0.78       215\n",
            "      NO AKI       0.14      0.60      0.23        20\n",
            "\n",
            "    accuracy                           0.66       235\n",
            "   macro avg       0.54      0.63      0.51       235\n",
            "weighted avg       0.88      0.66      0.73       235\n",
            "\n"
          ]
        }
      ]
    },
    {
      "cell_type": "code",
      "source": [
        "plot_roc(Y_logistic_sampled_pred,y_test)"
      ],
      "metadata": {
        "colab": {
          "base_uri": "https://localhost:8080/",
          "height": 295
        },
        "id": "7ksQ6GviM86D",
        "outputId": "4e171758-44e5-4f5d-9850-4df6ac76432e"
      },
      "execution_count": null,
      "outputs": [
        {
          "output_type": "display_data",
          "data": {
            "text/plain": [
              "<Figure size 432x288 with 1 Axes>"
            ],
            "image/png": "[encoded data removed]"
          },
          "metadata": {
            "needs_background": "light"
          }
        }
      ]
    },
    {
      "cell_type": "markdown",
      "metadata": {
        "id": "1BlAL7o-Rd91"
      },
      "source": [
        "# **Nearest Neighbor**"
      ]
    },
    {
      "cell_type": "markdown",
      "metadata": {
        "id": "eUkpVgP_WTdA"
      },
      "source": [
        "Knn model without over sampling"
      ]
    },
    {
      "cell_type": "code",
      "execution_count": null,
      "metadata": {
        "colab": {
          "base_uri": "https://localhost:8080/"
        },
        "id": "SM2fpFJLRlEc",
        "outputId": "0af184ee-fbed-4b08-da0b-a742714efba5"
      },
      "outputs": [
        {
          "output_type": "execute_result",
          "data": {
            "text/plain": [
              "0.8699658054711246"
            ]
          },
          "metadata": {},
          "execution_count": 301
        }
      ],
      "source": [
        "from sklearn.neighbors import KNeighborsClassifier\n",
        "from sklearn.metrics import precision_recall_fscore_support\n",
        "\n",
        "knn = KNeighborsClassifier(algorithm='kd_tree', leaf_size=1, n_neighbors=3, p=1)\n",
        "knn.fit(x_train, y_train)\n",
        "yknn_pred=knn.predict(x_test)\n",
        "precision_recall_fscore_support(y_test, yknn_pred, average='weighted')[2]"
      ]
    },
    {
      "cell_type": "code",
      "execution_count": null,
      "metadata": {
        "colab": {
          "base_uri": "https://localhost:8080/",
          "height": 632
        },
        "id": "91aEplxHW6jb",
        "outputId": "3db81d47-8c71-4c63-fe4b-bde16aac13fd"
      },
      "outputs": [
        {
          "output_type": "stream",
          "name": "stdout",
          "text": [
            "[[213   2]\n",
            " [ 20   0]]\n",
            "\n",
            "Plotting confusion matrix\n"
          ]
        },
        {
          "output_type": "display_data",
          "data": {
            "text/plain": [
              "<Figure size 432x288 with 2 Axes>"
            ],
            "image/png": "[encoded data removed]"
          },
          "metadata": {
            "needs_background": "light"
          }
        },
        {
          "output_type": "stream",
          "name": "stdout",
          "text": [
            "\n",
            "Precision score : 0.0\n",
            "Recall score    : 0.0\n",
            "F1 score        : 0.0\n",
            "\n",
            "              precision    recall  f1-score   support\n",
            "\n",
            "         AKI       0.91      0.99      0.95       215\n",
            "      NO AKI       0.00      0.00      0.00        20\n",
            "\n",
            "    accuracy                           0.91       235\n",
            "   macro avg       0.46      0.50      0.48       235\n",
            "weighted avg       0.84      0.91      0.87       235\n",
            "\n"
          ]
        }
      ],
      "source": [
        "import numpy as np\n",
        "from sklearn import svm, datasets\n",
        "from sklearn.metrics import confusion_matrix, classification_report\n",
        "\n",
        "# Compute confusion matrix for KNN\n",
        "cm = confusion_matrix(y_test, yknn_pred)\n",
        "print(cm)\n",
        "\n",
        "print()\n",
        "label = encode_text_index(p1data,\"KDIGO\")\n",
        "print('Plotting confusion matrix')\n",
        "\n",
        "plt.figure()\n",
        "plot_confusion_matrix(cm, label)\n",
        "plt.show()\n",
        "\n",
        "print()\n",
        "\n",
        "#Precision\n",
        "pr_score = metrics.precision_score(y_test, yknn_pred)\n",
        "print(\"Precision score : {}\".format(pr_score))\n",
        "\n",
        "#Recall\n",
        "re_score = metrics.recall_score(y_test, yknn_pred)\n",
        "print(\"Recall score    : {}\".format(re_score))\n",
        "\n",
        "#F1 Score\n",
        "f1_score = metrics.f1_score(y_test, yknn_pred)\n",
        "print(\"F1 score        : {}\".format(f1_score))\n",
        "\n",
        "print()\n",
        "\n",
        "target_names = ['NON AKI', 'AKI']\n",
        "print(classification_report(y_test, yknn_pred,target_names=target_names))"
      ]
    },
    {
      "cell_type": "code",
      "execution_count": null,
      "metadata": {
        "colab": {
          "base_uri": "https://localhost:8080/",
          "height": 295
        },
        "id": "-2if_A2tW_tt",
        "outputId": "9fa9e65e-7cdf-4e35-ebcc-1a0c7c84e97f"
      },
      "outputs": [
        {
          "output_type": "display_data",
          "data": {
            "text/plain": [
              "<Figure size 432x288 with 1 Axes>"
            ],
            "image/png": "[encoded data removed]"
          },
          "metadata": {
            "needs_background": "light"
          }
        }
      ],
      "source": [
        "plot_roc(yknn_pred,y_test)"
      ]
    },
    {
      "cell_type": "markdown",
      "source": [
        "KNN with the over sampling data"
      ],
      "metadata": {
        "id": "5KEG7b6bR4P3"
      }
    },
    {
      "cell_type": "code",
      "source": [
        "from sklearn.neighbors import KNeighborsClassifier\n",
        "from sklearn.metrics import precision_recall_fscore_support\n",
        "\n",
        "knn = KNeighborsClassifier(algorithm='kd_tree', leaf_size=1, n_neighbors=3, p=1)\n",
        "knn.fit(x_oversample, y_oversample)\n",
        "yknn_pred_sample=knn.predict(x_test)\n",
        "precision_recall_fscore_support(y_test, yknn_pred, average='weighted')[2]"
      ],
      "metadata": {
        "id": "Q_83aWy0JbNo",
        "colab": {
          "base_uri": "https://localhost:8080/"
        },
        "outputId": "4093cf89-e5e4-4854-92a0-fc8441d86767"
      },
      "execution_count": null,
      "outputs": [
        {
          "output_type": "execute_result",
          "data": {
            "text/plain": [
              "0.8699658054711246"
            ]
          },
          "metadata": {},
          "execution_count": 305
        }
      ]
    },
    {
      "cell_type": "code",
      "source": [
        "import numpy as np\n",
        "from sklearn import svm, datasets\n",
        "from sklearn.metrics import confusion_matrix, classification_report\n",
        "\n",
        "# Compute confusion matrix for Fully connected Nueral Network model\n",
        "cm = confusion_matrix(y_test, yknn_pred_sample)\n",
        "print(cm)\n",
        "\n",
        "print()\n",
        "label = encode_text_index(p1data,\"KDIGO\")\n",
        "print('Plotting confusion matrix')\n",
        "\n",
        "plt.figure()\n",
        "plot_confusion_matrix(cm, label)\n",
        "plt.show()\n",
        "\n",
        "print()\n",
        "\n",
        "#Precision\n",
        "pr_score = metrics.precision_score(y_test, yknn_pred_sample)\n",
        "print(\"Precision score : {}\".format(pr_score))\n",
        "\n",
        "#Recall\n",
        "re_score = metrics.recall_score(y_test, yknn_pred_sample)\n",
        "print(\"Recall score    : {}\".format(re_score))\n",
        "\n",
        "#F1 Score\n",
        "f1_score = metrics.f1_score(y_test, yknn_pred_sample)\n",
        "print(\"F1 score        : {}\".format(f1_score))\n",
        "\n",
        "print()\n",
        "\n",
        "target_names = ['NON AKI', 'AKI']\n",
        "print(classification_report(y_test, yknn_pred_sample,target_names=target_names))"
      ],
      "metadata": {
        "id": "tonEeKwmKLkt",
        "colab": {
          "base_uri": "https://localhost:8080/",
          "height": 632
        },
        "outputId": "40b97aae-98e2-42c7-ae10-303afb543e97"
      },
      "execution_count": null,
      "outputs": [
        {
          "output_type": "stream",
          "name": "stdout",
          "text": [
            "[[169  46]\n",
            " [ 11   9]]\n",
            "\n",
            "Plotting confusion matrix\n"
          ]
        },
        {
          "output_type": "display_data",
          "data": {
            "text/plain": [
              "<Figure size 432x288 with 2 Axes>"
            ],
            "image/png": "[encoded data removed]"
          },
          "metadata": {
            "needs_background": "light"
          }
        },
        {
          "output_type": "stream",
          "name": "stdout",
          "text": [
            "\n",
            "Precision score : 0.16363636363636364\n",
            "Recall score    : 0.45\n",
            "F1 score        : 0.24\n",
            "\n",
            "              precision    recall  f1-score   support\n",
            "\n",
            "         AKI       0.94      0.79      0.86       215\n",
            "      NO AKI       0.16      0.45      0.24        20\n",
            "\n",
            "    accuracy                           0.76       235\n",
            "   macro avg       0.55      0.62      0.55       235\n",
            "weighted avg       0.87      0.76      0.80       235\n",
            "\n"
          ]
        }
      ]
    },
    {
      "cell_type": "code",
      "source": [
        "plot_roc(yknn_pred_sample,y_test)"
      ],
      "metadata": {
        "colab": {
          "base_uri": "https://localhost:8080/",
          "height": 295
        },
        "id": "okINGs5IOWNq",
        "outputId": "5022282d-c826-4fe2-99b9-a7ed65d08a97"
      },
      "execution_count": null,
      "outputs": [
        {
          "output_type": "display_data",
          "data": {
            "text/plain": [
              "<Figure size 432x288 with 1 Axes>"
            ],
            "image/png": "[encoded data removed]"
          },
          "metadata": {
            "needs_background": "light"
          }
        }
      ]
    },
    {
      "cell_type": "markdown",
      "metadata": {
        "id": "yDzFk_2VjkGi"
      },
      "source": [
        "# **Support Vector Machine**"
      ]
    },
    {
      "cell_type": "markdown",
      "metadata": {
        "id": "o6zEtdj0jl-5"
      },
      "source": [
        "SVM Linear Model without over sampling"
      ]
    },
    {
      "cell_type": "code",
      "execution_count": null,
      "metadata": {
        "colab": {
          "base_uri": "https://localhost:8080/"
        },
        "id": "7YRHlp6_jqS2",
        "outputId": "08ed6b16-7258-42c5-e9f8-d9aad352afee"
      },
      "outputs": [
        {
          "output_type": "stream",
          "name": "stderr",
          "text": [
            "/usr/local/lib/python3.8/dist-packages/sklearn/svm/_base.py:284: ConvergenceWarning: Solver terminated early (max_iter=100).  Consider pre-processing your data with StandardScaler or MinMaxScaler.\n",
            "  warnings.warn(\n"
          ]
        }
      ],
      "source": [
        "#Import svm model\n",
        "from sklearn import svm\n",
        "\n",
        "clf = svm.SVC(kernel='linear',max_iter=100, degree=2, probability=True) # Linear Kernel\n",
        "\n",
        "#Train the model using the training sets\n",
        "clf.fit(x_train, y_train)\n",
        "\n",
        "#Predict the response for test dataset\n",
        "y_pred = clf.predict(x_test)\n"
      ]
    },
    {
      "cell_type": "code",
      "execution_count": null,
      "metadata": {
        "id": "DquCbgNMkDYf",
        "colab": {
          "base_uri": "https://localhost:8080/",
          "height": 597
        },
        "outputId": "044bb195-6c43-4e87-ce0c-4cda0fa76ac9"
      },
      "outputs": [
        {
          "output_type": "stream",
          "name": "stdout",
          "text": [
            "[[ 76 139]\n",
            " [  8  12]]\n"
          ]
        },
        {
          "output_type": "display_data",
          "data": {
            "text/plain": [
              "<Figure size 432x288 with 2 Axes>"
            ],
            "image/png": "[encoded data removed]"
          },
          "metadata": {
            "needs_background": "light"
          }
        },
        {
          "output_type": "stream",
          "name": "stdout",
          "text": [
            "\n",
            "Precision score : 0.07947019867549669\n",
            "Recall score    : 0.6\n",
            "F1 score        : 0.14035087719298248\n",
            "\n",
            "              precision    recall  f1-score   support\n",
            "\n",
            "         AKI       0.90      0.35      0.51       215\n",
            "      NO AKI       0.08      0.60      0.14        20\n",
            "\n",
            "    accuracy                           0.37       235\n",
            "   macro avg       0.49      0.48      0.32       235\n",
            "weighted avg       0.83      0.37      0.48       235\n",
            "\n"
          ]
        }
      ],
      "source": [
        "import numpy as np\n",
        "\n",
        "from sklearn import svm, datasets\n",
        "from sklearn.model_selection import train_test_split\n",
        "from sklearn.metrics import confusion_matrix, classification_report\n",
        "\n",
        "# Compute confusion matrix for SVM linear model\n",
        "cm = confusion_matrix(y_test, y_pred)\n",
        "print(cm)\n",
        "\n",
        "\n",
        "plt.figure()\n",
        "plot_confusion_matrix(cm, label)\n",
        "plt.show()\n",
        "\n",
        "print()\n",
        "\n",
        "#Precision\n",
        "pr_score = metrics.precision_score(y_test, y_pred)\n",
        "print(\"Precision score : {}\".format(pr_score))\n",
        "\n",
        "#Recall\n",
        "re_score = metrics.recall_score(y_test, y_pred)\n",
        "print(\"Recall score    : {}\".format(re_score))\n",
        "\n",
        "#F1 Score\n",
        "f1_score = metrics.f1_score(y_test, y_pred)\n",
        "print(\"F1 score        : {}\".format(f1_score))\n",
        "\n",
        "print()\n",
        "\n",
        "target_names = ['NON AKI', 'AKI']\n",
        "print(classification_report(y_test, y_pred,target_names=target_names))"
      ]
    },
    {
      "cell_type": "code",
      "execution_count": null,
      "metadata": {
        "id": "GMwH_g2gkMeS",
        "colab": {
          "base_uri": "https://localhost:8080/",
          "height": 295
        },
        "outputId": "851716b9-adda-4d52-b8cb-e50673e99d23"
      },
      "outputs": [
        {
          "output_type": "display_data",
          "data": {
            "text/plain": [
              "<Figure size 432x288 with 1 Axes>"
            ],
            "image/png": "[encoded data removed]"
          },
          "metadata": {
            "needs_background": "light"
          }
        }
      ],
      "source": [
        "plot_roc(y_pred,y_test)"
      ]
    },
    {
      "cell_type": "markdown",
      "source": [
        "SVM linear over sampled data"
      ],
      "metadata": {
        "id": "gomxYQ5ecRJF"
      }
    },
    {
      "cell_type": "code",
      "source": [
        "\n",
        "svm_sampled = svm.SVC(kernel='linear',max_iter=100, degree=2, probability=True) # Linear Kernel\n",
        "\n",
        "#Train the model using the training sets\n",
        "svm_sampled.fit(x_oversample, y_oversample)\n",
        "\n",
        "#Predict the response for test dataset\n",
        "y_pred_svmln = svm_sampled.predict(x_test)"
      ],
      "metadata": {
        "colab": {
          "base_uri": "https://localhost:8080/"
        },
        "id": "kqoevEAdO_QT",
        "outputId": "2f60b254-a808-4ffe-ba5c-23b0e9885e05"
      },
      "execution_count": null,
      "outputs": [
        {
          "output_type": "stream",
          "name": "stderr",
          "text": [
            "/usr/local/lib/python3.8/dist-packages/sklearn/svm/_base.py:284: ConvergenceWarning: Solver terminated early (max_iter=100).  Consider pre-processing your data with StandardScaler or MinMaxScaler.\n",
            "  warnings.warn(\n"
          ]
        }
      ]
    },
    {
      "cell_type": "code",
      "source": [
        "import numpy as np\n",
        "\n",
        "from sklearn import svm, datasets\n",
        "from sklearn.model_selection import train_test_split\n",
        "from sklearn.metrics import confusion_matrix, classification_report\n",
        "\n",
        "# Compute confusion matrix for SVM linear model\n",
        "cm = confusion_matrix(y_test, y_pred_svmln)\n",
        "print(cm)\n",
        "\n",
        "\n",
        "plt.figure()\n",
        "plot_confusion_matrix(cm, label)\n",
        "plt.show()\n",
        "\n",
        "print()\n",
        "\n",
        "#Precision\n",
        "pr_score = metrics.precision_score(y_test, y_pred_svmln)\n",
        "print(\"Precision score : {}\".format(pr_score))\n",
        "\n",
        "#Recall\n",
        "re_score = metrics.recall_score(y_test, y_pred_svmln)\n",
        "print(\"Recall score    : {}\".format(re_score))\n",
        "\n",
        "#F1 Score\n",
        "f1_score = metrics.f1_score(y_test, y_pred_svmln)\n",
        "print(\"F1 score        : {}\".format(f1_score))\n",
        "\n",
        "print()\n",
        "\n",
        "target_names = ['NON AKI', 'AKI']\n",
        "print(classification_report(y_test, y_pred_svmln,target_names=target_names))"
      ],
      "metadata": {
        "colab": {
          "base_uri": "https://localhost:8080/",
          "height": 597
        },
        "id": "DZy4m9IxO_g_",
        "outputId": "042ce3a4-e7f5-475b-8c26-62c1b70fc6cb"
      },
      "execution_count": null,
      "outputs": [
        {
          "output_type": "stream",
          "name": "stdout",
          "text": [
            "[[118  97]\n",
            " [ 10  10]]\n"
          ]
        },
        {
          "output_type": "display_data",
          "data": {
            "text/plain": [
              "<Figure size 432x288 with 2 Axes>"
            ],
            "image/png": "[encoded data removed]"
          },
          "metadata": {
            "needs_background": "light"
          }
        },
        {
          "output_type": "stream",
          "name": "stdout",
          "text": [
            "\n",
            "Precision score : 0.09345794392523364\n",
            "Recall score    : 0.5\n",
            "F1 score        : 0.15748031496062992\n",
            "\n",
            "              precision    recall  f1-score   support\n",
            "\n",
            "         AKI       0.92      0.55      0.69       215\n",
            "      NO AKI       0.09      0.50      0.16        20\n",
            "\n",
            "    accuracy                           0.54       235\n",
            "   macro avg       0.51      0.52      0.42       235\n",
            "weighted avg       0.85      0.54      0.64       235\n",
            "\n"
          ]
        }
      ]
    },
    {
      "cell_type": "code",
      "source": [
        "\n",
        "plot_roc(y_pred_svmln,y_test)"
      ],
      "metadata": {
        "colab": {
          "base_uri": "https://localhost:8080/",
          "height": 295
        },
        "id": "zPS7PgAOO_sE",
        "outputId": "608beb4e-2b1a-42ea-c46a-cda8885994a1"
      },
      "execution_count": null,
      "outputs": [
        {
          "output_type": "display_data",
          "data": {
            "text/plain": [
              "<Figure size 432x288 with 1 Axes>"
            ],
            "image/png": "[encoded data removed]"
          },
          "metadata": {
            "needs_background": "light"
          }
        }
      ]
    },
    {
      "cell_type": "markdown",
      "metadata": {
        "id": "U_C-1h6okTU9"
      },
      "source": [
        "SVM Polynomial Model without over sampling"
      ]
    },
    {
      "cell_type": "code",
      "execution_count": null,
      "metadata": {
        "id": "ZGND96KNkuVy",
        "colab": {
          "base_uri": "https://localhost:8080/"
        },
        "outputId": "0512b279-54f9-4555-c16e-a80f68a48f03"
      },
      "outputs": [
        {
          "output_type": "stream",
          "name": "stderr",
          "text": [
            "/usr/local/lib/python3.8/dist-packages/sklearn/svm/_base.py:284: ConvergenceWarning: Solver terminated early (max_iter=70).  Consider pre-processing your data with StandardScaler or MinMaxScaler.\n",
            "  warnings.warn(\n"
          ]
        }
      ],
      "source": [
        "clf1 = svm.SVC(kernel='poly',max_iter=70, degree=2, probability=True) # Linear Kernel\n",
        "\n",
        "#Train the model using the training sets\n",
        "clf1.fit(x_train, y_train)\n",
        "\n",
        "#Predict the response for test dataset\n",
        "y_pred = clf1.predict(x_test)\n"
      ]
    },
    {
      "cell_type": "code",
      "execution_count": null,
      "metadata": {
        "id": "GCee3aVjl7dw",
        "colab": {
          "base_uri": "https://localhost:8080/",
          "height": 760
        },
        "outputId": "5e7e69a5-42e0-48c8-ef6c-ab12530b8d04"
      },
      "outputs": [
        {
          "output_type": "stream",
          "name": "stdout",
          "text": [
            "[[215   0]\n",
            " [ 20   0]]\n"
          ]
        },
        {
          "output_type": "display_data",
          "data": {
            "text/plain": [
              "<Figure size 432x288 with 2 Axes>"
            ],
            "image/png": "[encoded data removed]"
          },
          "metadata": {
            "needs_background": "light"
          }
        },
        {
          "output_type": "stream",
          "name": "stdout",
          "text": [
            "\n",
            "Precision score : 0.0\n",
            "Recall score    : 0.0\n",
            "F1 score        : 0.0\n",
            "\n",
            "              precision    recall  f1-score   support\n",
            "\n",
            "         AKI       0.91      1.00      0.96       215\n",
            "      NO AKI       0.00      0.00      0.00        20\n",
            "\n",
            "    accuracy                           0.91       235\n",
            "   macro avg       0.46      0.50      0.48       235\n",
            "weighted avg       0.84      0.91      0.87       235\n",
            "\n"
          ]
        },
        {
          "output_type": "stream",
          "name": "stderr",
          "text": [
            "/usr/local/lib/python3.8/dist-packages/sklearn/metrics/_classification.py:1318: UndefinedMetricWarning: Precision is ill-defined and being set to 0.0 due to no predicted samples. Use `zero_division` parameter to control this behavior.\n",
            "  _warn_prf(average, modifier, msg_start, len(result))\n",
            "/usr/local/lib/python3.8/dist-packages/sklearn/metrics/_classification.py:1318: UndefinedMetricWarning: Precision and F-score are ill-defined and being set to 0.0 in labels with no predicted samples. Use `zero_division` parameter to control this behavior.\n",
            "  _warn_prf(average, modifier, msg_start, len(result))\n",
            "/usr/local/lib/python3.8/dist-packages/sklearn/metrics/_classification.py:1318: UndefinedMetricWarning: Precision and F-score are ill-defined and being set to 0.0 in labels with no predicted samples. Use `zero_division` parameter to control this behavior.\n",
            "  _warn_prf(average, modifier, msg_start, len(result))\n",
            "/usr/local/lib/python3.8/dist-packages/sklearn/metrics/_classification.py:1318: UndefinedMetricWarning: Precision and F-score are ill-defined and being set to 0.0 in labels with no predicted samples. Use `zero_division` parameter to control this behavior.\n",
            "  _warn_prf(average, modifier, msg_start, len(result))\n"
          ]
        }
      ],
      "source": [
        "import numpy as np\n",
        "\n",
        "from sklearn import svm, datasets\n",
        "from sklearn.model_selection import train_test_split\n",
        "from sklearn.metrics import confusion_matrix, classification_report\n",
        "\n",
        "# Compute confusion matrix for SVM polynomial\n",
        "cm = confusion_matrix(y_test, y_pred)\n",
        "print(cm)\n",
        "\n",
        "\n",
        "plt.figure()\n",
        "plot_confusion_matrix(cm, label)\n",
        "plt.show()\n",
        "\n",
        "\n",
        "print()\n",
        "\n",
        "#Precision\n",
        "pr_score = metrics.precision_score(y_test, y_pred)\n",
        "print(\"Precision score : {}\".format(pr_score))\n",
        "\n",
        "#Recall\n",
        "re_score = metrics.recall_score(y_test, y_pred)\n",
        "print(\"Recall score    : {}\".format(re_score))\n",
        "\n",
        "#F1 Score\n",
        "f1_score = metrics.f1_score(y_test, y_pred)\n",
        "print(\"F1 score        : {}\".format(f1_score))\n",
        "\n",
        "print()\n",
        "\n",
        "target_names = ['NON AKI', 'AKI']\n",
        "print(classification_report(y_test, y_pred,target_names=target_names))\n"
      ]
    },
    {
      "cell_type": "code",
      "execution_count": null,
      "metadata": {
        "id": "pXgn4fJkpV98",
        "colab": {
          "base_uri": "https://localhost:8080/",
          "height": 295
        },
        "outputId": "87b7da00-1956-4bbb-9cff-1d364a746b82"
      },
      "outputs": [
        {
          "output_type": "display_data",
          "data": {
            "text/plain": [
              "<Figure size 432x288 with 1 Axes>"
            ],
            "image/png": "[encoded data removed]"
          },
          "metadata": {
            "needs_background": "light"
          }
        }
      ],
      "source": [
        "plot_roc(y_pred,y_test)"
      ]
    },
    {
      "cell_type": "markdown",
      "source": [
        "SVM polynomial over sampled data"
      ],
      "metadata": {
        "id": "DUBcYawzSeAJ"
      }
    },
    {
      "cell_type": "code",
      "source": [
        "svm_sampled = svm.SVC(kernel='poly',max_iter=70, degree=2, probability=True) # Linear Kernel\n",
        "\n",
        "#Train the model using the training sets\n",
        "svm_sampled.fit(x_oversample, y_oversample)\n",
        "\n",
        "#Predict the response for test dataset\n",
        "y_pred_svmpy = svm_sampled.predict(x_test)"
      ],
      "metadata": {
        "colab": {
          "base_uri": "https://localhost:8080/"
        },
        "id": "YBlH1ml8SjqA",
        "outputId": "2906f4a1-e055-4dc6-b091-d32a79086e02"
      },
      "execution_count": null,
      "outputs": [
        {
          "output_type": "stream",
          "name": "stderr",
          "text": [
            "/usr/local/lib/python3.8/dist-packages/sklearn/svm/_base.py:284: ConvergenceWarning: Solver terminated early (max_iter=70).  Consider pre-processing your data with StandardScaler or MinMaxScaler.\n",
            "  warnings.warn(\n"
          ]
        }
      ]
    },
    {
      "cell_type": "code",
      "source": [
        "import numpy as np\n",
        "\n",
        "from sklearn import svm, datasets\n",
        "from sklearn.model_selection import train_test_split\n",
        "from sklearn.metrics import confusion_matrix, classification_report\n",
        "\n",
        "# Compute confusion matrix for SVM polynomial\n",
        "cm = confusion_matrix(y_test, y_pred_svmpy)\n",
        "print(cm)\n",
        "\n",
        "\n",
        "plt.figure()\n",
        "plot_confusion_matrix(cm, label)\n",
        "plt.show()\n",
        "\n",
        "\n",
        "print()\n",
        "\n",
        "#Precision\n",
        "pr_score = metrics.precision_score(y_test, y_pred_svmpy)\n",
        "print(\"Precision score : {}\".format(pr_score))\n",
        "\n",
        "#Recall\n",
        "re_score = metrics.recall_score(y_test, y_pred_svmpy)\n",
        "print(\"Recall score    : {}\".format(re_score))\n",
        "\n",
        "#F1 Score\n",
        "f1_score = metrics.f1_score(y_test, y_pred_svmpy)\n",
        "print(\"F1 score        : {}\".format(f1_score))\n",
        "\n",
        "print()\n",
        "\n",
        "target_names = ['NON AKI', 'AKI']\n",
        "print(classification_report(y_test, y_pred_svmpy,target_names=target_names))\n"
      ],
      "metadata": {
        "colab": {
          "base_uri": "https://localhost:8080/",
          "height": 597
        },
        "id": "l1yS7C2aSjwK",
        "outputId": "29243835-15da-422a-8b86-763f8661d381"
      },
      "execution_count": null,
      "outputs": [
        {
          "output_type": "stream",
          "name": "stdout",
          "text": [
            "[[125  90]\n",
            " [  7  13]]\n"
          ]
        },
        {
          "output_type": "display_data",
          "data": {
            "text/plain": [
              "<Figure size 432x288 with 2 Axes>"
            ],
            "image/png": "[encoded data removed]"
          },
          "metadata": {
            "needs_background": "light"
          }
        },
        {
          "output_type": "stream",
          "name": "stdout",
          "text": [
            "\n",
            "Precision score : 0.1262135922330097\n",
            "Recall score    : 0.65\n",
            "F1 score        : 0.2113821138211382\n",
            "\n",
            "              precision    recall  f1-score   support\n",
            "\n",
            "         AKI       0.95      0.58      0.72       215\n",
            "      NO AKI       0.13      0.65      0.21        20\n",
            "\n",
            "    accuracy                           0.59       235\n",
            "   macro avg       0.54      0.62      0.47       235\n",
            "weighted avg       0.88      0.59      0.68       235\n",
            "\n"
          ]
        }
      ]
    },
    {
      "cell_type": "code",
      "source": [
        "plot_roc(y_pred_svmpy,y_test)"
      ],
      "metadata": {
        "colab": {
          "base_uri": "https://localhost:8080/",
          "height": 295
        },
        "id": "slHtq-L2Sj4_",
        "outputId": "6f656646-c9fb-4bd4-c1d9-2d6a3fa060d4"
      },
      "execution_count": null,
      "outputs": [
        {
          "output_type": "display_data",
          "data": {
            "text/plain": [
              "<Figure size 432x288 with 1 Axes>"
            ],
            "image/png": "[encoded data removed]"
          },
          "metadata": {
            "needs_background": "light"
          }
        }
      ]
    },
    {
      "cell_type": "markdown",
      "metadata": {
        "id": "rZ42uUCApZw5"
      },
      "source": [
        "SVM rbf model without over sampling"
      ]
    },
    {
      "cell_type": "code",
      "execution_count": null,
      "metadata": {
        "id": "6V5tpb_XpeNS",
        "colab": {
          "base_uri": "https://localhost:8080/"
        },
        "outputId": "3e6559d6-33b1-47c0-d682-35e90f685a5e"
      },
      "outputs": [
        {
          "output_type": "stream",
          "name": "stderr",
          "text": [
            "/usr/local/lib/python3.8/dist-packages/sklearn/svm/_base.py:284: ConvergenceWarning: Solver terminated early (max_iter=86).  Consider pre-processing your data with StandardScaler or MinMaxScaler.\n",
            "  warnings.warn(\n"
          ]
        }
      ],
      "source": [
        "clf2 = svm.SVC(kernel='rbf',max_iter=86, degree=1, probability=True)\n",
        "\n",
        "#Train the model using the training sets\n",
        "clf2.fit(x_train, y_train)\n",
        "\n",
        "#Predict the response for test dataset\n",
        "y_pred = clf2.predict(x_test)"
      ]
    },
    {
      "cell_type": "code",
      "execution_count": null,
      "metadata": {
        "id": "7pfKzAp3pmMe",
        "colab": {
          "base_uri": "https://localhost:8080/",
          "height": 777
        },
        "outputId": "e2969ff6-c5b1-46b1-889b-581c38cfc2ba"
      },
      "outputs": [
        {
          "output_type": "stream",
          "name": "stdout",
          "text": [
            "[[215   0]\n",
            " [ 20   0]]\n",
            "Plotting confusion matrix\n"
          ]
        },
        {
          "output_type": "display_data",
          "data": {
            "text/plain": [
              "<Figure size 432x288 with 2 Axes>"
            ],
            "image/png": "[encoded data removed]"
          },
          "metadata": {
            "needs_background": "light"
          }
        },
        {
          "output_type": "stream",
          "name": "stdout",
          "text": [
            "\n",
            "Precision score : 0.0\n",
            "Recall score    : 0.0\n",
            "F1 score        : 0.0\n",
            "\n",
            "              precision    recall  f1-score   support\n",
            "\n",
            "         AKI       0.91      1.00      0.96       215\n",
            "      NO AKI       0.00      0.00      0.00        20\n",
            "\n",
            "    accuracy                           0.91       235\n",
            "   macro avg       0.46      0.50      0.48       235\n",
            "weighted avg       0.84      0.91      0.87       235\n",
            "\n"
          ]
        },
        {
          "output_type": "stream",
          "name": "stderr",
          "text": [
            "/usr/local/lib/python3.8/dist-packages/sklearn/metrics/_classification.py:1318: UndefinedMetricWarning: Precision is ill-defined and being set to 0.0 due to no predicted samples. Use `zero_division` parameter to control this behavior.\n",
            "  _warn_prf(average, modifier, msg_start, len(result))\n",
            "/usr/local/lib/python3.8/dist-packages/sklearn/metrics/_classification.py:1318: UndefinedMetricWarning: Precision and F-score are ill-defined and being set to 0.0 in labels with no predicted samples. Use `zero_division` parameter to control this behavior.\n",
            "  _warn_prf(average, modifier, msg_start, len(result))\n",
            "/usr/local/lib/python3.8/dist-packages/sklearn/metrics/_classification.py:1318: UndefinedMetricWarning: Precision and F-score are ill-defined and being set to 0.0 in labels with no predicted samples. Use `zero_division` parameter to control this behavior.\n",
            "  _warn_prf(average, modifier, msg_start, len(result))\n",
            "/usr/local/lib/python3.8/dist-packages/sklearn/metrics/_classification.py:1318: UndefinedMetricWarning: Precision and F-score are ill-defined and being set to 0.0 in labels with no predicted samples. Use `zero_division` parameter to control this behavior.\n",
            "  _warn_prf(average, modifier, msg_start, len(result))\n"
          ]
        }
      ],
      "source": [
        "import numpy as np\n",
        "\n",
        "from sklearn import svm, datasets\n",
        "from sklearn.model_selection import train_test_split\n",
        "from sklearn.metrics import confusion_matrix, classification_report\n",
        "\n",
        "# Compute confusion matrix for SVM rblf\n",
        "cm = confusion_matrix(y_test, y_pred)\n",
        "print(cm)\n",
        "\n",
        "\n",
        "print('Plotting confusion matrix')\n",
        "\n",
        "plt.figure()\n",
        "plot_confusion_matrix(cm, label)\n",
        "plt.show()\n",
        "\n",
        "print()\n",
        "\n",
        "#Precision\n",
        "pr_score = metrics.precision_score(y_test, y_pred)\n",
        "print(\"Precision score : {}\".format(pr_score))\n",
        "\n",
        "#Recall\n",
        "re_score = metrics.recall_score(y_test, y_pred)\n",
        "print(\"Recall score    : {}\".format(re_score))\n",
        "\n",
        "#F1 Score\n",
        "f1_score = metrics.f1_score(y_test, y_pred)\n",
        "print(\"F1 score        : {}\".format(f1_score))\n",
        "\n",
        "print()\n",
        "\n",
        "target_names = ['NON AKI', 'AKI']\n",
        "print(classification_report(y_test, y_pred,target_names=target_names))\n"
      ]
    },
    {
      "cell_type": "code",
      "execution_count": null,
      "metadata": {
        "id": "2Teq9WEfpwGm",
        "colab": {
          "base_uri": "https://localhost:8080/",
          "height": 295
        },
        "outputId": "097c3570-96c7-4fde-90ef-6d1b954df22b"
      },
      "outputs": [
        {
          "output_type": "display_data",
          "data": {
            "text/plain": [
              "<Figure size 432x288 with 1 Axes>"
            ],
            "image/png": "[encoded data removed]"
          },
          "metadata": {
            "needs_background": "light"
          }
        }
      ],
      "source": [
        "plot_roc(y_pred,y_test)"
      ]
    },
    {
      "cell_type": "markdown",
      "source": [
        "SVM RBF model with the over sampled data"
      ],
      "metadata": {
        "id": "RFtAEJFOTR64"
      }
    },
    {
      "cell_type": "code",
      "source": [
        "svm_sampled = svm.SVC(kernel='rbf',max_iter=86, degree=1, probability=True)  # Linear Kernel\n",
        "\n",
        "#Train the model using the training sets\n",
        "svm_sampled.fit(x_oversample, y_oversample)\n",
        "\n",
        "#Predict the response for test dataset\n",
        "y_pred_svmrbf = svm_sampled.predict(x_test)"
      ],
      "metadata": {
        "id": "oLegvWoRTWXX",
        "colab": {
          "base_uri": "https://localhost:8080/"
        },
        "outputId": "ae96f4db-ab06-4720-c2ef-41a73fe07a66"
      },
      "execution_count": null,
      "outputs": [
        {
          "output_type": "stream",
          "name": "stderr",
          "text": [
            "/usr/local/lib/python3.8/dist-packages/sklearn/svm/_base.py:284: ConvergenceWarning: Solver terminated early (max_iter=86).  Consider pre-processing your data with StandardScaler or MinMaxScaler.\n",
            "  warnings.warn(\n"
          ]
        }
      ]
    },
    {
      "cell_type": "code",
      "source": [
        "import numpy as np\n",
        "\n",
        "from sklearn import svm, datasets\n",
        "from sklearn.model_selection import train_test_split\n",
        "from sklearn.metrics import confusion_matrix, classification_report\n",
        "\n",
        "# Compute confusion matrix for SVM rbf model\n",
        "cm = confusion_matrix(y_test, y_pred_svmrbf)\n",
        "print(cm)\n",
        "\n",
        "\n",
        "plt.figure()\n",
        "plot_confusion_matrix(cm, label)\n",
        "plt.show()\n",
        "\n",
        "\n",
        "print()\n",
        "\n",
        "#Precision\n",
        "pr_score = metrics.precision_score(y_test, y_pred_svmrbf)\n",
        "print(\"Precision score : {}\".format(pr_score))\n",
        "\n",
        "#Recall\n",
        "re_score = metrics.recall_score(y_test, y_pred_svmrbf)\n",
        "print(\"Recall score    : {}\".format(re_score))\n",
        "\n",
        "#F1 Score\n",
        "f1_score = metrics.f1_score(y_test, y_pred_svmrbf)\n",
        "print(\"F1 score        : {}\".format(f1_score))\n",
        "\n",
        "print()\n",
        "\n",
        "target_names = ['NON AKI', 'AKI']\n",
        "print(classification_report(y_test, y_pred_svmrbf,target_names=target_names))\n"
      ],
      "metadata": {
        "colab": {
          "base_uri": "https://localhost:8080/",
          "height": 597
        },
        "id": "2RYz0q1eTWa2",
        "outputId": "a01cebe8-5e44-4b83-b1cd-012eff287739"
      },
      "execution_count": null,
      "outputs": [
        {
          "output_type": "stream",
          "name": "stdout",
          "text": [
            "[[133  82]\n",
            " [  8  12]]\n"
          ]
        },
        {
          "output_type": "display_data",
          "data": {
            "text/plain": [
              "<Figure size 432x288 with 2 Axes>"
            ],
            "image/png": "[encoded data removed]"
          },
          "metadata": {
            "needs_background": "light"
          }
        },
        {
          "output_type": "stream",
          "name": "stdout",
          "text": [
            "\n",
            "Precision score : 0.1276595744680851\n",
            "Recall score    : 0.6\n",
            "F1 score        : 0.21052631578947367\n",
            "\n",
            "              precision    recall  f1-score   support\n",
            "\n",
            "         AKI       0.94      0.62      0.75       215\n",
            "      NO AKI       0.13      0.60      0.21        20\n",
            "\n",
            "    accuracy                           0.62       235\n",
            "   macro avg       0.54      0.61      0.48       235\n",
            "weighted avg       0.87      0.62      0.70       235\n",
            "\n"
          ]
        }
      ]
    },
    {
      "cell_type": "code",
      "source": [
        "plot_roc(y_pred_svmrbf,y_test)"
      ],
      "metadata": {
        "colab": {
          "base_uri": "https://localhost:8080/",
          "height": 295
        },
        "id": "8apfhOmuTWhO",
        "outputId": "11a610fb-0cb2-4726-8ae3-3100f6da4a35"
      },
      "execution_count": null,
      "outputs": [
        {
          "output_type": "display_data",
          "data": {
            "text/plain": [
              "<Figure size 432x288 with 1 Axes>"
            ],
            "image/png": "[encoded data removed]"
          },
          "metadata": {
            "needs_background": "light"
          }
        }
      ]
    },
    {
      "cell_type": "markdown",
      "metadata": {
        "id": "4dnFGpecp0_x"
      },
      "source": [
        "# **Fully-Connected Neural Networks**"
      ]
    },
    {
      "cell_type": "markdown",
      "source": [
        "Fully Connected Neural Network without over sampling"
      ],
      "metadata": {
        "id": "hWZf5rewdJiL"
      }
    },
    {
      "cell_type": "code",
      "execution_count": null,
      "metadata": {
        "id": "lsG2k8rYz8z8"
      },
      "outputs": [],
      "source": [
        "%matplotlib inline\n",
        "from matplotlib.pyplot import figure, show\n",
        "from sklearn.model_selection import train_test_split\n",
        "import pandas as pd\n",
        "import os\n",
        "import numpy as np\n",
        "from sklearn import metrics\n",
        "\n",
        "from tensorflow.keras.models import Sequential\n",
        "from tensorflow.keras.layers import Dense, Activation\n",
        "from tensorflow.keras.callbacks import EarlyStopping\n",
        "from tensorflow.keras.callbacks import ModelCheckpoint\n",
        "from tensorflow.keras import optimizers"
      ]
    },
    {
      "cell_type": "code",
      "execution_count": null,
      "metadata": {
        "id": "Xl1rVb-4VMu9"
      },
      "outputs": [],
      "source": [
        "x,y = to_xy(p1data,\"KDIGO\")\n",
        "x_train, x_test, y_train, y_test = train_test_split(x, y, test_size=0.32, random_state=42)\n"
      ]
    },
    {
      "cell_type": "code",
      "execution_count": null,
      "metadata": {
        "id": "uI9GyTxKqPAo",
        "colab": {
          "base_uri": "https://localhost:8080/"
        },
        "outputId": "630ca98d-4a5b-4885-b58e-9a05e677e4e0"
      },
      "outputs": [
        {
          "output_type": "stream",
          "name": "stdout",
          "text": [
            "0\n",
            "Epoch 1/100\n",
            "\n",
            "Epoch 1: val_loss improved from inf to 0.49102, saving model to /content/sample_data/bst_weights_f_1.hdf5\n",
            "25/25 - 1s - loss: 0.6276 - val_loss: 0.4910 - 778ms/epoch - 31ms/step\n",
            "Epoch 2/100\n",
            "\n",
            "Epoch 2: val_loss improved from 0.49102 to 0.41517, saving model to /content/sample_data/bst_weights_f_1.hdf5\n",
            "25/25 - 0s - loss: 0.4571 - val_loss: 0.4152 - 127ms/epoch - 5ms/step\n",
            "Epoch 3/100\n",
            "\n",
            "Epoch 3: val_loss improved from 0.41517 to 0.37377, saving model to /content/sample_data/bst_weights_f_1.hdf5\n",
            "25/25 - 0s - loss: 0.4029 - val_loss: 0.3738 - 134ms/epoch - 5ms/step\n",
            "Epoch 4/100\n",
            "\n",
            "Epoch 4: val_loss improved from 0.37377 to 0.34675, saving model to /content/sample_data/bst_weights_f_1.hdf5\n",
            "25/25 - 0s - loss: 0.3709 - val_loss: 0.3468 - 129ms/epoch - 5ms/step\n",
            "Epoch 5/100\n",
            "\n",
            "Epoch 5: val_loss improved from 0.34675 to 0.32712, saving model to /content/sample_data/bst_weights_f_1.hdf5\n",
            "25/25 - 0s - loss: 0.3491 - val_loss: 0.3271 - 157ms/epoch - 6ms/step\n",
            "Epoch 6/100\n",
            "\n",
            "Epoch 6: val_loss improved from 0.32712 to 0.31211, saving model to /content/sample_data/bst_weights_f_1.hdf5\n",
            "25/25 - 0s - loss: 0.3329 - val_loss: 0.3121 - 116ms/epoch - 5ms/step\n",
            "Epoch 7/100\n",
            "\n",
            "Epoch 7: val_loss improved from 0.31211 to 0.30022, saving model to /content/sample_data/bst_weights_f_1.hdf5\n",
            "25/25 - 0s - loss: 0.3204 - val_loss: 0.3002 - 117ms/epoch - 5ms/step\n",
            "Epoch 8/100\n",
            "\n",
            "Epoch 8: val_loss improved from 0.30022 to 0.29048, saving model to /content/sample_data/bst_weights_f_1.hdf5\n",
            "25/25 - 0s - loss: 0.3104 - val_loss: 0.2905 - 116ms/epoch - 5ms/step\n",
            "Epoch 9/100\n",
            "\n",
            "Epoch 9: val_loss improved from 0.29048 to 0.28245, saving model to /content/sample_data/bst_weights_f_1.hdf5\n",
            "25/25 - 0s - loss: 0.3022 - val_loss: 0.2824 - 119ms/epoch - 5ms/step\n",
            "Epoch 10/100\n",
            "\n",
            "Epoch 10: val_loss improved from 0.28245 to 0.27565, saving model to /content/sample_data/bst_weights_f_1.hdf5\n",
            "25/25 - 0s - loss: 0.2955 - val_loss: 0.2757 - 116ms/epoch - 5ms/step\n",
            "Epoch 11/100\n",
            "\n",
            "Epoch 11: val_loss improved from 0.27565 to 0.26988, saving model to /content/sample_data/bst_weights_f_1.hdf5\n",
            "25/25 - 0s - loss: 0.2897 - val_loss: 0.2699 - 130ms/epoch - 5ms/step\n",
            "Epoch 12/100\n",
            "\n",
            "Epoch 12: val_loss improved from 0.26988 to 0.26492, saving model to /content/sample_data/bst_weights_f_1.hdf5\n",
            "25/25 - 0s - loss: 0.2849 - val_loss: 0.2649 - 161ms/epoch - 6ms/step\n",
            "Epoch 13/100\n",
            "\n",
            "Epoch 13: val_loss improved from 0.26492 to 0.26068, saving model to /content/sample_data/bst_weights_f_1.hdf5\n",
            "25/25 - 0s - loss: 0.2809 - val_loss: 0.2607 - 160ms/epoch - 6ms/step\n",
            "Epoch 14/100\n",
            "\n",
            "Epoch 14: val_loss improved from 0.26068 to 0.25702, saving model to /content/sample_data/bst_weights_f_1.hdf5\n",
            "25/25 - 0s - loss: 0.2774 - val_loss: 0.2570 - 120ms/epoch - 5ms/step\n",
            "Epoch 15/100\n",
            "\n",
            "Epoch 15: val_loss improved from 0.25702 to 0.25383, saving model to /content/sample_data/bst_weights_f_1.hdf5\n",
            "25/25 - 0s - loss: 0.2744 - val_loss: 0.2538 - 123ms/epoch - 5ms/step\n",
            "Epoch 16/100\n",
            "\n",
            "Epoch 16: val_loss improved from 0.25383 to 0.25098, saving model to /content/sample_data/bst_weights_f_1.hdf5\n",
            "25/25 - 0s - loss: 0.2717 - val_loss: 0.2510 - 160ms/epoch - 6ms/step\n",
            "Epoch 17/100\n",
            "\n",
            "Epoch 17: val_loss improved from 0.25098 to 0.24848, saving model to /content/sample_data/bst_weights_f_1.hdf5\n",
            "25/25 - 0s - loss: 0.2695 - val_loss: 0.2485 - 128ms/epoch - 5ms/step\n",
            "Epoch 18/100\n",
            "\n",
            "Epoch 18: val_loss improved from 0.24848 to 0.24626, saving model to /content/sample_data/bst_weights_f_1.hdf5\n",
            "25/25 - 0s - loss: 0.2674 - val_loss: 0.2463 - 122ms/epoch - 5ms/step\n",
            "Epoch 19/100\n",
            "\n",
            "Epoch 19: val_loss improved from 0.24626 to 0.24428, saving model to /content/sample_data/bst_weights_f_1.hdf5\n",
            "25/25 - 0s - loss: 0.2657 - val_loss: 0.2443 - 134ms/epoch - 5ms/step\n",
            "Epoch 20/100\n",
            "\n",
            "Epoch 20: val_loss improved from 0.24428 to 0.24254, saving model to /content/sample_data/bst_weights_f_1.hdf5\n",
            "25/25 - 0s - loss: 0.2641 - val_loss: 0.2425 - 153ms/epoch - 6ms/step\n",
            "Epoch 21/100\n",
            "\n",
            "Epoch 21: val_loss improved from 0.24254 to 0.24098, saving model to /content/sample_data/bst_weights_f_1.hdf5\n",
            "25/25 - 0s - loss: 0.2628 - val_loss: 0.2410 - 188ms/epoch - 8ms/step\n",
            "Epoch 22/100\n",
            "\n",
            "Epoch 22: val_loss improved from 0.24098 to 0.23957, saving model to /content/sample_data/bst_weights_f_1.hdf5\n",
            "25/25 - 0s - loss: 0.2616 - val_loss: 0.2396 - 194ms/epoch - 8ms/step\n",
            "Epoch 23/100\n",
            "\n",
            "Epoch 23: val_loss improved from 0.23957 to 0.23830, saving model to /content/sample_data/bst_weights_f_1.hdf5\n",
            "25/25 - 0s - loss: 0.2605 - val_loss: 0.2383 - 191ms/epoch - 8ms/step\n",
            "Epoch 24/100\n",
            "\n",
            "Epoch 24: val_loss improved from 0.23830 to 0.23716, saving model to /content/sample_data/bst_weights_f_1.hdf5\n",
            "25/25 - 0s - loss: 0.2595 - val_loss: 0.2372 - 205ms/epoch - 8ms/step\n",
            "Epoch 25/100\n",
            "\n",
            "Epoch 25: val_loss improved from 0.23716 to 0.23615, saving model to /content/sample_data/bst_weights_f_1.hdf5\n",
            "25/25 - 0s - loss: 0.2587 - val_loss: 0.2361 - 195ms/epoch - 8ms/step\n",
            "Epoch 26/100\n",
            "\n",
            "Epoch 26: val_loss improved from 0.23615 to 0.23521, saving model to /content/sample_data/bst_weights_f_1.hdf5\n",
            "25/25 - 0s - loss: 0.2579 - val_loss: 0.2352 - 217ms/epoch - 9ms/step\n",
            "Epoch 27/100\n",
            "\n",
            "Epoch 27: val_loss improved from 0.23521 to 0.23437, saving model to /content/sample_data/bst_weights_f_1.hdf5\n",
            "25/25 - 0s - loss: 0.2572 - val_loss: 0.2344 - 204ms/epoch - 8ms/step\n",
            "Epoch 28/100\n",
            "\n",
            "Epoch 28: val_loss improved from 0.23437 to 0.23360, saving model to /content/sample_data/bst_weights_f_1.hdf5\n",
            "25/25 - 0s - loss: 0.2566 - val_loss: 0.2336 - 207ms/epoch - 8ms/step\n",
            "Epoch 29/100\n",
            "\n",
            "Epoch 29: val_loss improved from 0.23360 to 0.23290, saving model to /content/sample_data/bst_weights_f_1.hdf5\n",
            "25/25 - 0s - loss: 0.2561 - val_loss: 0.2329 - 215ms/epoch - 9ms/step\n",
            "Epoch 30/100\n",
            "\n",
            "Epoch 30: val_loss improved from 0.23290 to 0.23225, saving model to /content/sample_data/bst_weights_f_1.hdf5\n",
            "25/25 - 0s - loss: 0.2556 - val_loss: 0.2322 - 199ms/epoch - 8ms/step\n",
            "Epoch 31/100\n",
            "\n",
            "Epoch 31: val_loss improved from 0.23225 to 0.23166, saving model to /content/sample_data/bst_weights_f_1.hdf5\n",
            "25/25 - 0s - loss: 0.2551 - val_loss: 0.2317 - 142ms/epoch - 6ms/step\n",
            "Epoch 32/100\n",
            "\n",
            "Epoch 32: val_loss improved from 0.23166 to 0.23113, saving model to /content/sample_data/bst_weights_f_1.hdf5\n",
            "25/25 - 0s - loss: 0.2547 - val_loss: 0.2311 - 114ms/epoch - 5ms/step\n",
            "Epoch 33/100\n",
            "\n",
            "Epoch 33: val_loss improved from 0.23113 to 0.23063, saving model to /content/sample_data/bst_weights_f_1.hdf5\n",
            "25/25 - 0s - loss: 0.2544 - val_loss: 0.2306 - 118ms/epoch - 5ms/step\n",
            "Epoch 34/100\n",
            "\n",
            "Epoch 34: val_loss improved from 0.23063 to 0.23018, saving model to /content/sample_data/bst_weights_f_1.hdf5\n",
            "25/25 - 0s - loss: 0.2540 - val_loss: 0.2302 - 128ms/epoch - 5ms/step\n",
            "Epoch 35/100\n",
            "\n",
            "Epoch 35: val_loss improved from 0.23018 to 0.22977, saving model to /content/sample_data/bst_weights_f_1.hdf5\n",
            "25/25 - 0s - loss: 0.2537 - val_loss: 0.2298 - 120ms/epoch - 5ms/step\n",
            "Epoch 35: early stopping\n",
            "1\n",
            "Epoch 1/100\n",
            "\n",
            "Epoch 1: val_loss did not improve from 0.22977\n",
            "25/25 - 1s - loss: 0.4357 - val_loss: 0.3687 - 717ms/epoch - 29ms/step\n",
            "Epoch 2/100\n",
            "\n",
            "Epoch 2: val_loss did not improve from 0.22977\n",
            "25/25 - 0s - loss: 0.3614 - val_loss: 0.3302 - 103ms/epoch - 4ms/step\n",
            "Epoch 3/100\n",
            "\n",
            "Epoch 3: val_loss did not improve from 0.22977\n",
            "25/25 - 0s - loss: 0.3332 - val_loss: 0.3068 - 142ms/epoch - 6ms/step\n",
            "Epoch 4/100\n",
            "\n",
            "Epoch 4: val_loss did not improve from 0.22977\n",
            "25/25 - 0s - loss: 0.3150 - val_loss: 0.2908 - 113ms/epoch - 5ms/step\n",
            "Epoch 5/100\n",
            "\n",
            "Epoch 5: val_loss did not improve from 0.22977\n",
            "25/25 - 0s - loss: 0.3023 - val_loss: 0.2791 - 107ms/epoch - 4ms/step\n",
            "Epoch 6/100\n",
            "\n",
            "Epoch 6: val_loss did not improve from 0.22977\n",
            "25/25 - 0s - loss: 0.2928 - val_loss: 0.2702 - 117ms/epoch - 5ms/step\n",
            "Epoch 7/100\n",
            "\n",
            "Epoch 7: val_loss did not improve from 0.22977\n",
            "25/25 - 0s - loss: 0.2855 - val_loss: 0.2633 - 106ms/epoch - 4ms/step\n",
            "Epoch 8/100\n",
            "\n",
            "Epoch 8: val_loss did not improve from 0.22977\n",
            "25/25 - 0s - loss: 0.2798 - val_loss: 0.2578 - 142ms/epoch - 6ms/step\n",
            "Epoch 9/100\n",
            "\n",
            "Epoch 9: val_loss did not improve from 0.22977\n",
            "25/25 - 0s - loss: 0.2753 - val_loss: 0.2533 - 151ms/epoch - 6ms/step\n",
            "Epoch 10/100\n",
            "\n",
            "Epoch 10: val_loss did not improve from 0.22977\n",
            "25/25 - 0s - loss: 0.2716 - val_loss: 0.2496 - 106ms/epoch - 4ms/step\n",
            "Epoch 11/100\n",
            "\n",
            "Epoch 11: val_loss did not improve from 0.22977\n",
            "25/25 - 0s - loss: 0.2687 - val_loss: 0.2466 - 106ms/epoch - 4ms/step\n",
            "Epoch 12/100\n",
            "\n",
            "Epoch 12: val_loss did not improve from 0.22977\n",
            "25/25 - 0s - loss: 0.2661 - val_loss: 0.2439 - 113ms/epoch - 5ms/step\n",
            "Epoch 13/100\n",
            "\n",
            "Epoch 13: val_loss did not improve from 0.22977\n",
            "25/25 - 0s - loss: 0.2640 - val_loss: 0.2417 - 110ms/epoch - 4ms/step\n",
            "Epoch 14/100\n",
            "\n",
            "Epoch 14: val_loss did not improve from 0.22977\n",
            "25/25 - 0s - loss: 0.2622 - val_loss: 0.2398 - 110ms/epoch - 4ms/step\n",
            "Epoch 15/100\n",
            "\n",
            "Epoch 15: val_loss did not improve from 0.22977\n",
            "25/25 - 0s - loss: 0.2608 - val_loss: 0.2382 - 106ms/epoch - 4ms/step\n",
            "Epoch 16/100\n",
            "\n",
            "Epoch 16: val_loss did not improve from 0.22977\n",
            "25/25 - 0s - loss: 0.2595 - val_loss: 0.2368 - 100ms/epoch - 4ms/step\n",
            "Epoch 17/100\n",
            "\n",
            "Epoch 17: val_loss did not improve from 0.22977\n",
            "25/25 - 0s - loss: 0.2584 - val_loss: 0.2356 - 116ms/epoch - 5ms/step\n",
            "Epoch 18/100\n",
            "\n",
            "Epoch 18: val_loss did not improve from 0.22977\n",
            "25/25 - 0s - loss: 0.2574 - val_loss: 0.2345 - 106ms/epoch - 4ms/step\n",
            "Epoch 19/100\n",
            "\n",
            "Epoch 19: val_loss did not improve from 0.22977\n",
            "25/25 - 0s - loss: 0.2566 - val_loss: 0.2335 - 100ms/epoch - 4ms/step\n",
            "Epoch 20/100\n",
            "\n",
            "Epoch 20: val_loss did not improve from 0.22977\n",
            "25/25 - 0s - loss: 0.2558 - val_loss: 0.2326 - 103ms/epoch - 4ms/step\n",
            "Epoch 21/100\n",
            "\n",
            "Epoch 21: val_loss did not improve from 0.22977\n",
            "25/25 - 0s - loss: 0.2551 - val_loss: 0.2318 - 104ms/epoch - 4ms/step\n",
            "Epoch 22/100\n",
            "\n",
            "Epoch 22: val_loss did not improve from 0.22977\n",
            "25/25 - 0s - loss: 0.2546 - val_loss: 0.2311 - 108ms/epoch - 4ms/step\n",
            "Epoch 23/100\n",
            "\n",
            "Epoch 23: val_loss did not improve from 0.22977\n",
            "25/25 - 0s - loss: 0.2541 - val_loss: 0.2305 - 121ms/epoch - 5ms/step\n",
            "Epoch 24/100\n",
            "\n",
            "Epoch 24: val_loss did not improve from 0.22977\n",
            "25/25 - 0s - loss: 0.2536 - val_loss: 0.2300 - 142ms/epoch - 6ms/step\n",
            "Epoch 25/100\n",
            "\n",
            "Epoch 25: val_loss improved from 0.22977 to 0.22952, saving model to /content/sample_data/bst_weights_f_1.hdf5\n",
            "25/25 - 0s - loss: 0.2532 - val_loss: 0.2295 - 122ms/epoch - 5ms/step\n",
            "Epoch 26/100\n",
            "\n",
            "Epoch 26: val_loss improved from 0.22952 to 0.22912, saving model to /content/sample_data/bst_weights_f_1.hdf5\n",
            "25/25 - 0s - loss: 0.2528 - val_loss: 0.2291 - 133ms/epoch - 5ms/step\n",
            "Epoch 26: early stopping\n",
            "2\n",
            "Epoch 1/100\n",
            "\n",
            "Epoch 1: val_loss did not improve from 0.22912\n",
            "25/25 - 1s - loss: 0.5234 - val_loss: 0.4776 - 701ms/epoch - 28ms/step\n",
            "Epoch 2/100\n",
            "\n",
            "Epoch 2: val_loss did not improve from 0.22912\n",
            "25/25 - 0s - loss: 0.4604 - val_loss: 0.4283 - 144ms/epoch - 6ms/step\n",
            "Epoch 3/100\n",
            "\n",
            "Epoch 3: val_loss did not improve from 0.22912\n",
            "25/25 - 0s - loss: 0.4192 - val_loss: 0.3916 - 151ms/epoch - 6ms/step\n",
            "Epoch 4/100\n",
            "\n",
            "Epoch 4: val_loss did not improve from 0.22912\n",
            "25/25 - 0s - loss: 0.3881 - val_loss: 0.3633 - 182ms/epoch - 7ms/step\n",
            "Epoch 5/100\n",
            "\n",
            "Epoch 5: val_loss did not improve from 0.22912\n",
            "25/25 - 0s - loss: 0.3642 - val_loss: 0.3412 - 190ms/epoch - 8ms/step\n",
            "Epoch 6/100\n",
            "\n",
            "Epoch 6: val_loss did not improve from 0.22912\n",
            "25/25 - 0s - loss: 0.3454 - val_loss: 0.3234 - 186ms/epoch - 7ms/step\n",
            "Epoch 7/100\n",
            "\n",
            "Epoch 7: val_loss did not improve from 0.22912\n",
            "25/25 - 0s - loss: 0.3303 - val_loss: 0.3091 - 186ms/epoch - 7ms/step\n",
            "Epoch 8/100\n",
            "\n",
            "Epoch 8: val_loss did not improve from 0.22912\n",
            "25/25 - 0s - loss: 0.3182 - val_loss: 0.2974 - 161ms/epoch - 6ms/step\n",
            "Epoch 9/100\n",
            "\n",
            "Epoch 9: val_loss did not improve from 0.22912\n",
            "25/25 - 0s - loss: 0.3083 - val_loss: 0.2877 - 180ms/epoch - 7ms/step\n",
            "Epoch 10/100\n",
            "\n",
            "Epoch 10: val_loss did not improve from 0.22912\n",
            "25/25 - 0s - loss: 0.3002 - val_loss: 0.2797 - 186ms/epoch - 7ms/step\n",
            "Epoch 11/100\n",
            "\n",
            "Epoch 11: val_loss did not improve from 0.22912\n",
            "25/25 - 0s - loss: 0.2935 - val_loss: 0.2730 - 197ms/epoch - 8ms/step\n",
            "Epoch 12/100\n",
            "\n",
            "Epoch 12: val_loss did not improve from 0.22912\n",
            "25/25 - 0s - loss: 0.2879 - val_loss: 0.2673 - 174ms/epoch - 7ms/step\n",
            "Epoch 13/100\n",
            "\n",
            "Epoch 13: val_loss did not improve from 0.22912\n",
            "25/25 - 0s - loss: 0.2831 - val_loss: 0.2624 - 183ms/epoch - 7ms/step\n",
            "Epoch 14/100\n",
            "\n",
            "Epoch 14: val_loss did not improve from 0.22912\n",
            "25/25 - 0s - loss: 0.2791 - val_loss: 0.2582 - 188ms/epoch - 8ms/step\n",
            "Epoch 15/100\n",
            "\n",
            "Epoch 15: val_loss did not improve from 0.22912\n",
            "25/25 - 0s - loss: 0.2757 - val_loss: 0.2546 - 189ms/epoch - 8ms/step\n",
            "Epoch 16/100\n",
            "\n",
            "Epoch 16: val_loss did not improve from 0.22912\n",
            "25/25 - 0s - loss: 0.2727 - val_loss: 0.2514 - 151ms/epoch - 6ms/step\n",
            "Epoch 17/100\n",
            "\n",
            "Epoch 17: val_loss did not improve from 0.22912\n",
            "25/25 - 0s - loss: 0.2702 - val_loss: 0.2487 - 109ms/epoch - 4ms/step\n",
            "Epoch 18/100\n",
            "\n",
            "Epoch 18: val_loss did not improve from 0.22912\n",
            "25/25 - 0s - loss: 0.2680 - val_loss: 0.2462 - 107ms/epoch - 4ms/step\n",
            "Epoch 19/100\n",
            "\n",
            "Epoch 19: val_loss did not improve from 0.22912\n",
            "25/25 - 0s - loss: 0.2661 - val_loss: 0.2441 - 114ms/epoch - 5ms/step\n",
            "Epoch 20/100\n",
            "\n",
            "Epoch 20: val_loss did not improve from 0.22912\n",
            "25/25 - 0s - loss: 0.2644 - val_loss: 0.2422 - 144ms/epoch - 6ms/step\n",
            "Epoch 21/100\n",
            "\n",
            "Epoch 21: val_loss did not improve from 0.22912\n",
            "25/25 - 0s - loss: 0.2629 - val_loss: 0.2406 - 109ms/epoch - 4ms/step\n",
            "Epoch 22/100\n",
            "\n",
            "Epoch 22: val_loss did not improve from 0.22912\n",
            "25/25 - 0s - loss: 0.2617 - val_loss: 0.2391 - 119ms/epoch - 5ms/step\n",
            "Epoch 23/100\n",
            "\n",
            "Epoch 23: val_loss did not improve from 0.22912\n",
            "25/25 - 0s - loss: 0.2605 - val_loss: 0.2378 - 115ms/epoch - 5ms/step\n",
            "Epoch 24/100\n",
            "\n",
            "Epoch 24: val_loss did not improve from 0.22912\n",
            "25/25 - 0s - loss: 0.2595 - val_loss: 0.2366 - 114ms/epoch - 5ms/step\n",
            "Epoch 25/100\n",
            "\n",
            "Epoch 25: val_loss did not improve from 0.22912\n",
            "25/25 - 0s - loss: 0.2587 - val_loss: 0.2355 - 153ms/epoch - 6ms/step\n",
            "Epoch 26/100\n",
            "\n",
            "Epoch 26: val_loss did not improve from 0.22912\n",
            "25/25 - 0s - loss: 0.2579 - val_loss: 0.2346 - 116ms/epoch - 5ms/step\n",
            "Epoch 27/100\n",
            "\n",
            "Epoch 27: val_loss did not improve from 0.22912\n",
            "25/25 - 0s - loss: 0.2572 - val_loss: 0.2337 - 109ms/epoch - 4ms/step\n",
            "Epoch 28/100\n",
            "\n",
            "Epoch 28: val_loss did not improve from 0.22912\n",
            "25/25 - 0s - loss: 0.2566 - val_loss: 0.2329 - 134ms/epoch - 5ms/step\n",
            "Epoch 29/100\n",
            "\n",
            "Epoch 29: val_loss did not improve from 0.22912\n",
            "25/25 - 0s - loss: 0.2560 - val_loss: 0.2322 - 110ms/epoch - 4ms/step\n",
            "Epoch 30/100\n",
            "\n",
            "Epoch 30: val_loss did not improve from 0.22912\n",
            "25/25 - 0s - loss: 0.2556 - val_loss: 0.2316 - 144ms/epoch - 6ms/step\n",
            "Epoch 31/100\n",
            "\n",
            "Epoch 31: val_loss did not improve from 0.22912\n",
            "25/25 - 0s - loss: 0.2551 - val_loss: 0.2310 - 124ms/epoch - 5ms/step\n",
            "Epoch 32/100\n",
            "\n",
            "Epoch 32: val_loss did not improve from 0.22912\n",
            "25/25 - 0s - loss: 0.2547 - val_loss: 0.2305 - 122ms/epoch - 5ms/step\n",
            "Epoch 33/100\n",
            "\n",
            "Epoch 33: val_loss did not improve from 0.22912\n",
            "25/25 - 0s - loss: 0.2544 - val_loss: 0.2300 - 111ms/epoch - 4ms/step\n",
            "Epoch 34/100\n",
            "\n",
            "Epoch 34: val_loss did not improve from 0.22912\n",
            "25/25 - 0s - loss: 0.2541 - val_loss: 0.2296 - 102ms/epoch - 4ms/step\n",
            "Epoch 35/100\n",
            "\n",
            "Epoch 35: val_loss did not improve from 0.22912\n",
            "25/25 - 0s - loss: 0.2538 - val_loss: 0.2292 - 110ms/epoch - 4ms/step\n",
            "Epoch 35: early stopping\n",
            "3\n",
            "Epoch 1/100\n",
            "\n",
            "Epoch 1: val_loss did not improve from 0.22912\n",
            "25/25 - 1s - loss: 0.4783 - val_loss: 0.3921 - 766ms/epoch - 31ms/step\n",
            "Epoch 2/100\n",
            "\n",
            "Epoch 2: val_loss did not improve from 0.22912\n",
            "25/25 - 0s - loss: 0.3722 - val_loss: 0.3329 - 100ms/epoch - 4ms/step\n",
            "Epoch 3/100\n",
            "\n",
            "Epoch 3: val_loss did not improve from 0.22912\n",
            "25/25 - 0s - loss: 0.3316 - val_loss: 0.3026 - 114ms/epoch - 5ms/step\n",
            "Epoch 4/100\n",
            "\n",
            "Epoch 4: val_loss did not improve from 0.22912\n",
            "25/25 - 0s - loss: 0.3093 - val_loss: 0.2842 - 158ms/epoch - 6ms/step\n",
            "Epoch 5/100\n",
            "\n",
            "Epoch 5: val_loss did not improve from 0.22912\n",
            "25/25 - 0s - loss: 0.2953 - val_loss: 0.2720 - 101ms/epoch - 4ms/step\n",
            "Epoch 6/100\n",
            "\n",
            "Epoch 6: val_loss did not improve from 0.22912\n",
            "25/25 - 0s - loss: 0.2859 - val_loss: 0.2634 - 102ms/epoch - 4ms/step\n",
            "Epoch 7/100\n",
            "\n",
            "Epoch 7: val_loss did not improve from 0.22912\n",
            "25/25 - 0s - loss: 0.2793 - val_loss: 0.2571 - 109ms/epoch - 4ms/step\n",
            "Epoch 8/100\n",
            "\n",
            "Epoch 8: val_loss did not improve from 0.22912\n",
            "25/25 - 0s - loss: 0.2743 - val_loss: 0.2523 - 106ms/epoch - 4ms/step\n",
            "Epoch 9/100\n",
            "\n",
            "Epoch 9: val_loss did not improve from 0.22912\n",
            "25/25 - 0s - loss: 0.2706 - val_loss: 0.2485 - 104ms/epoch - 4ms/step\n",
            "Epoch 10/100\n",
            "\n",
            "Epoch 10: val_loss did not improve from 0.22912\n",
            "25/25 - 0s - loss: 0.2676 - val_loss: 0.2455 - 99ms/epoch - 4ms/step\n",
            "Epoch 11/100\n",
            "\n",
            "Epoch 11: val_loss did not improve from 0.22912\n",
            "25/25 - 0s - loss: 0.2653 - val_loss: 0.2430 - 105ms/epoch - 4ms/step\n",
            "Epoch 12/100\n",
            "\n",
            "Epoch 12: val_loss did not improve from 0.22912\n",
            "25/25 - 0s - loss: 0.2634 - val_loss: 0.2409 - 112ms/epoch - 4ms/step\n",
            "Epoch 13/100\n",
            "\n",
            "Epoch 13: val_loss did not improve from 0.22912\n",
            "25/25 - 0s - loss: 0.2619 - val_loss: 0.2392 - 115ms/epoch - 5ms/step\n",
            "Epoch 14/100\n",
            "\n",
            "Epoch 14: val_loss did not improve from 0.22912\n",
            "25/25 - 0s - loss: 0.2605 - val_loss: 0.2376 - 110ms/epoch - 4ms/step\n",
            "Epoch 15/100\n",
            "\n",
            "Epoch 15: val_loss did not improve from 0.22912\n",
            "25/25 - 0s - loss: 0.2594 - val_loss: 0.2363 - 111ms/epoch - 4ms/step\n",
            "Epoch 16/100\n",
            "\n",
            "Epoch 16: val_loss did not improve from 0.22912\n",
            "25/25 - 0s - loss: 0.2584 - val_loss: 0.2352 - 109ms/epoch - 4ms/step\n",
            "Epoch 17/100\n",
            "\n",
            "Epoch 17: val_loss did not improve from 0.22912\n",
            "25/25 - 0s - loss: 0.2576 - val_loss: 0.2342 - 141ms/epoch - 6ms/step\n",
            "Epoch 18/100\n",
            "\n",
            "Epoch 18: val_loss did not improve from 0.22912\n",
            "25/25 - 0s - loss: 0.2569 - val_loss: 0.2333 - 98ms/epoch - 4ms/step\n",
            "Epoch 19/100\n",
            "\n",
            "Epoch 19: val_loss did not improve from 0.22912\n",
            "25/25 - 0s - loss: 0.2563 - val_loss: 0.2325 - 99ms/epoch - 4ms/step\n",
            "Epoch 20/100\n",
            "\n",
            "Epoch 20: val_loss did not improve from 0.22912\n",
            "25/25 - 0s - loss: 0.2557 - val_loss: 0.2318 - 149ms/epoch - 6ms/step\n",
            "Epoch 21/100\n",
            "\n",
            "Epoch 21: val_loss did not improve from 0.22912\n",
            "25/25 - 0s - loss: 0.2552 - val_loss: 0.2311 - 113ms/epoch - 5ms/step\n",
            "Epoch 22/100\n",
            "\n",
            "Epoch 22: val_loss did not improve from 0.22912\n",
            "25/25 - 0s - loss: 0.2548 - val_loss: 0.2306 - 102ms/epoch - 4ms/step\n",
            "Epoch 23/100\n",
            "\n",
            "Epoch 23: val_loss did not improve from 0.22912\n",
            "25/25 - 0s - loss: 0.2545 - val_loss: 0.2300 - 98ms/epoch - 4ms/step\n",
            "Epoch 24/100\n",
            "\n",
            "Epoch 24: val_loss did not improve from 0.22912\n",
            "25/25 - 0s - loss: 0.2541 - val_loss: 0.2296 - 103ms/epoch - 4ms/step\n",
            "Epoch 25/100\n",
            "\n",
            "Epoch 25: val_loss did not improve from 0.22912\n",
            "25/25 - 0s - loss: 0.2538 - val_loss: 0.2292 - 99ms/epoch - 4ms/step\n",
            "Epoch 25: early stopping\n",
            "4\n",
            "Epoch 1/100\n",
            "\n",
            "Epoch 1: val_loss did not improve from 0.22912\n",
            "25/25 - 1s - loss: 0.5433 - val_loss: 0.4615 - 678ms/epoch - 27ms/step\n",
            "Epoch 2/100\n",
            "\n",
            "Epoch 2: val_loss did not improve from 0.22912\n",
            "25/25 - 0s - loss: 0.4167 - val_loss: 0.3630 - 108ms/epoch - 4ms/step\n",
            "Epoch 3/100\n",
            "\n",
            "Epoch 3: val_loss did not improve from 0.22912\n",
            "25/25 - 0s - loss: 0.3523 - val_loss: 0.3205 - 112ms/epoch - 4ms/step\n",
            "Epoch 4/100\n",
            "\n",
            "Epoch 4: val_loss did not improve from 0.22912\n",
            "25/25 - 0s - loss: 0.3233 - val_loss: 0.2983 - 150ms/epoch - 6ms/step\n",
            "Epoch 5/100\n",
            "\n",
            "Epoch 5: val_loss did not improve from 0.22912\n",
            "25/25 - 0s - loss: 0.3069 - val_loss: 0.2841 - 152ms/epoch - 6ms/step\n",
            "Epoch 6/100\n",
            "\n",
            "Epoch 6: val_loss did not improve from 0.22912\n",
            "25/25 - 0s - loss: 0.2959 - val_loss: 0.2740 - 113ms/epoch - 5ms/step\n",
            "Epoch 7/100\n",
            "\n",
            "Epoch 7: val_loss did not improve from 0.22912\n",
            "25/25 - 0s - loss: 0.2881 - val_loss: 0.2665 - 105ms/epoch - 4ms/step\n",
            "Epoch 8/100\n",
            "\n",
            "Epoch 8: val_loss did not improve from 0.22912\n",
            "25/25 - 0s - loss: 0.2821 - val_loss: 0.2605 - 108ms/epoch - 4ms/step\n",
            "Epoch 9/100\n",
            "\n",
            "Epoch 9: val_loss did not improve from 0.22912\n",
            "25/25 - 0s - loss: 0.2773 - val_loss: 0.2557 - 104ms/epoch - 4ms/step\n",
            "Epoch 10/100\n",
            "\n",
            "Epoch 10: val_loss did not improve from 0.22912\n",
            "25/25 - 0s - loss: 0.2735 - val_loss: 0.2517 - 103ms/epoch - 4ms/step\n",
            "Epoch 11/100\n",
            "\n",
            "Epoch 11: val_loss did not improve from 0.22912\n",
            "25/25 - 0s - loss: 0.2704 - val_loss: 0.2484 - 100ms/epoch - 4ms/step\n",
            "Epoch 12/100\n",
            "\n",
            "Epoch 12: val_loss did not improve from 0.22912\n",
            "25/25 - 0s - loss: 0.2678 - val_loss: 0.2456 - 114ms/epoch - 5ms/step\n",
            "Epoch 13/100\n",
            "\n",
            "Epoch 13: val_loss did not improve from 0.22912\n",
            "25/25 - 0s - loss: 0.2656 - val_loss: 0.2432 - 106ms/epoch - 4ms/step\n",
            "Epoch 14/100\n",
            "\n",
            "Epoch 14: val_loss did not improve from 0.22912\n",
            "25/25 - 0s - loss: 0.2637 - val_loss: 0.2411 - 100ms/epoch - 4ms/step\n",
            "Epoch 15/100\n",
            "\n",
            "Epoch 15: val_loss did not improve from 0.22912\n",
            "25/25 - 0s - loss: 0.2622 - val_loss: 0.2394 - 106ms/epoch - 4ms/step\n",
            "Epoch 16/100\n",
            "\n",
            "Epoch 16: val_loss did not improve from 0.22912\n",
            "25/25 - 0s - loss: 0.2608 - val_loss: 0.2378 - 104ms/epoch - 4ms/step\n",
            "Epoch 17/100\n",
            "\n",
            "Epoch 17: val_loss did not improve from 0.22912\n",
            "25/25 - 0s - loss: 0.2596 - val_loss: 0.2364 - 117ms/epoch - 5ms/step\n",
            "Epoch 18/100\n",
            "\n",
            "Epoch 18: val_loss did not improve from 0.22912\n",
            "25/25 - 0s - loss: 0.2586 - val_loss: 0.2352 - 109ms/epoch - 4ms/step\n",
            "Epoch 19/100\n",
            "\n",
            "Epoch 19: val_loss did not improve from 0.22912\n",
            "25/25 - 0s - loss: 0.2578 - val_loss: 0.2342 - 108ms/epoch - 4ms/step\n",
            "Epoch 20/100\n",
            "\n",
            "Epoch 20: val_loss did not improve from 0.22912\n",
            "25/25 - 0s - loss: 0.2570 - val_loss: 0.2333 - 104ms/epoch - 4ms/step\n",
            "Epoch 21/100\n",
            "\n",
            "Epoch 21: val_loss did not improve from 0.22912\n",
            "25/25 - 0s - loss: 0.2563 - val_loss: 0.2324 - 104ms/epoch - 4ms/step\n",
            "Epoch 22/100\n",
            "\n",
            "Epoch 22: val_loss did not improve from 0.22912\n",
            "25/25 - 0s - loss: 0.2558 - val_loss: 0.2317 - 107ms/epoch - 4ms/step\n",
            "Epoch 23/100\n",
            "\n",
            "Epoch 23: val_loss did not improve from 0.22912\n",
            "25/25 - 0s - loss: 0.2553 - val_loss: 0.2310 - 99ms/epoch - 4ms/step\n",
            "Epoch 24/100\n",
            "\n",
            "Epoch 24: val_loss did not improve from 0.22912\n",
            "25/25 - 0s - loss: 0.2548 - val_loss: 0.2304 - 115ms/epoch - 5ms/step\n",
            "Epoch 25/100\n",
            "\n",
            "Epoch 25: val_loss did not improve from 0.22912\n",
            "25/25 - 0s - loss: 0.2544 - val_loss: 0.2299 - 105ms/epoch - 4ms/step\n",
            "Epoch 26/100\n",
            "\n",
            "Epoch 26: val_loss did not improve from 0.22912\n",
            "25/25 - 0s - loss: 0.2540 - val_loss: 0.2294 - 106ms/epoch - 4ms/step\n",
            "Epoch 27/100\n",
            "\n",
            "Epoch 27: val_loss improved from 0.22912 to 0.22894, saving model to /content/sample_data/bst_weights_f_1.hdf5\n",
            "25/25 - 0s - loss: 0.2537 - val_loss: 0.2289 - 124ms/epoch - 5ms/step\n",
            "Epoch 27: early stopping\n"
          ]
        }
      ],
      "source": [
        "#activation function as tanh optimizer as sgd\n",
        "# Define ModelCheckpoint outside the loop\n",
        "checkpointer = ModelCheckpoint(filepath=r\"/content/sample_data/bst_weights_f_1.hdf5\", verbose=2, save_best_only=True) # save best model\n",
        "\n",
        "for i in range(5):\n",
        "    print(i)\n",
        "\n",
        "    # Build network\n",
        "    model = Sequential()\n",
        "    model.add(Dense(10, input_dim=x.shape[1], activation='tanh'))\n",
        "    model.add(Dense(5, activation='tanh'))\n",
        "    model.add(Dense(y.shape[1], activation='softmax'))\n",
        "    model.compile(loss='binary_crossentropy', optimizer='sgd')\n",
        "\n",
        "    monitor = EarlyStopping(monitor='val_loss', min_delta=1e-3, patience=2, verbose=2, mode='auto')\n",
        "\n",
        "    model.fit(x_train,y_train,validation_data=(x_test,y_test),callbacks=[monitor,checkpointer],verbose=2,epochs=100)"
      ]
    },
    {
      "cell_type": "code",
      "execution_count": null,
      "metadata": {
        "colab": {
          "base_uri": "https://localhost:8080/"
        },
        "id": "s3nxmNQnV2iw",
        "outputId": "741a450d-534f-4c2d-8abe-65eed8e145fc"
      },
      "outputs": [
        {
          "output_type": "stream",
          "name": "stdout",
          "text": [
            "Training finished...Loading the best model\n",
            "\n",
            "12/12 [==============================] - 0s 1ms/step\n",
            "Final accuracy: 0.9414893617021277\n"
          ]
        }
      ],
      "source": [
        "print('Training finished...Loading the best model')\n",
        "print()\n",
        "model.load_weights(r\"/content/sample_data/bst_weights_f_1.hdf5\")\n",
        "# load weights from best model\n",
        "\n",
        "# Measure accuracy\n",
        "pred = model.predict(x_test)\n",
        "pred = np.argmax(pred,axis=1)\n",
        "\n",
        "y_true = np.argmax(y_test,axis=1)\n",
        "\n",
        "score = metrics.accuracy_score(y_true, pred)\n",
        "print(\"Final accuracy: {}\".format(score))"
      ]
    },
    {
      "cell_type": "code",
      "execution_count": null,
      "metadata": {
        "colab": {
          "base_uri": "https://localhost:8080/",
          "height": 777
        },
        "id": "JL7KO1uIWSAV",
        "outputId": "70de18dd-5f76-46d6-fa2e-e204d7d50a5b"
      },
      "outputs": [
        {
          "output_type": "stream",
          "name": "stdout",
          "text": [
            "[[354   0]\n",
            " [ 22   0]]\n",
            "Plotting confusion matrix\n"
          ]
        },
        {
          "output_type": "display_data",
          "data": {
            "text/plain": [
              "<Figure size 432x288 with 2 Axes>"
            ],
            "image/png": "[encoded data removed]"
          },
          "metadata": {
            "needs_background": "light"
          }
        },
        {
          "output_type": "stream",
          "name": "stdout",
          "text": [
            "\n",
            "Precision score : 0.0\n",
            "Recall score    : 0.0\n",
            "F1 score        : 0.0\n",
            "\n",
            "              precision    recall  f1-score   support\n",
            "\n",
            "         AKI       0.94      1.00      0.97       354\n",
            "      NO AKI       0.00      0.00      0.00        22\n",
            "\n",
            "    accuracy                           0.94       376\n",
            "   macro avg       0.47      0.50      0.48       376\n",
            "weighted avg       0.89      0.94      0.91       376\n",
            "\n"
          ]
        },
        {
          "output_type": "stream",
          "name": "stderr",
          "text": [
            "/usr/local/lib/python3.8/dist-packages/sklearn/metrics/_classification.py:1318: UndefinedMetricWarning: Precision is ill-defined and being set to 0.0 due to no predicted samples. Use `zero_division` parameter to control this behavior.\n",
            "  _warn_prf(average, modifier, msg_start, len(result))\n",
            "/usr/local/lib/python3.8/dist-packages/sklearn/metrics/_classification.py:1318: UndefinedMetricWarning: Precision and F-score are ill-defined and being set to 0.0 in labels with no predicted samples. Use `zero_division` parameter to control this behavior.\n",
            "  _warn_prf(average, modifier, msg_start, len(result))\n",
            "/usr/local/lib/python3.8/dist-packages/sklearn/metrics/_classification.py:1318: UndefinedMetricWarning: Precision and F-score are ill-defined and being set to 0.0 in labels with no predicted samples. Use `zero_division` parameter to control this behavior.\n",
            "  _warn_prf(average, modifier, msg_start, len(result))\n",
            "/usr/local/lib/python3.8/dist-packages/sklearn/metrics/_classification.py:1318: UndefinedMetricWarning: Precision and F-score are ill-defined and being set to 0.0 in labels with no predicted samples. Use `zero_division` parameter to control this behavior.\n",
            "  _warn_prf(average, modifier, msg_start, len(result))\n"
          ]
        }
      ],
      "source": [
        "import numpy as np\n",
        "from sklearn import metrics\n",
        "from sklearn import svm, datasets\n",
        "from sklearn.model_selection import train_test_split\n",
        "from sklearn.metrics import confusion_matrix, classification_report\n",
        "\n",
        "# Compute confusion matrix for Fully connected Nueral Network model\n",
        "cm = confusion_matrix(y_true, pred)\n",
        "print(cm)\n",
        "\n",
        "label = encode_text_index(p1data,\"KDIGO\")\n",
        "print('Plotting confusion matrix')\n",
        "\n",
        "plt.figure()\n",
        "plot_confusion_matrix(cm, label)\n",
        "plt.show()\n",
        "\n",
        "print()\n",
        "\n",
        "#Precision\n",
        "pr_score = metrics.precision_score(y_true, pred)\n",
        "print(\"Precision score : {}\".format(pr_score))\n",
        "\n",
        "#Recall\n",
        "re_score = metrics.recall_score(y_true, pred)\n",
        "print(\"Recall score    : {}\".format(re_score))\n",
        "\n",
        "#F1 Score\n",
        "f1_score = metrics.f1_score(y_true, pred)\n",
        "print(\"F1 score        : {}\".format(f1_score))\n",
        "\n",
        "print()\n",
        "\n",
        "target_names = ['NON AKI', 'AKI']\n",
        "print(classification_report(y_true, pred,target_names=target_names))"
      ]
    },
    {
      "cell_type": "code",
      "execution_count": null,
      "metadata": {
        "colab": {
          "base_uri": "https://localhost:8080/",
          "height": 295
        },
        "id": "mWKZR0swWSBm",
        "outputId": "54284feb-7759-4c13-9827-a2759c4f19ca"
      },
      "outputs": [
        {
          "output_type": "display_data",
          "data": {
            "text/plain": [
              "<Figure size 432x288 with 1 Axes>"
            ],
            "image/png": "[encoded data removed]"
          },
          "metadata": {
            "needs_background": "light"
          }
        }
      ],
      "source": [
        "#Plot ROC Curve for Fully Connected Nueral Network\n",
        "plot_roc(pred,y_true)"
      ]
    },
    {
      "cell_type": "markdown",
      "source": [
        "Full connected model with over sampled data"
      ],
      "metadata": {
        "id": "u3J1tYJkUroP"
      }
    },
    {
      "cell_type": "code",
      "source": [
        "x,y = to_xy_1d(p1data,\"KDIGO\")\n",
        "\n",
        "from sklearn.model_selection import train_test_split\n",
        "x_train,x_test,y_train,y_test=train_test_split(x,y,test_size=0.30,random_state=0)\n",
        "\n",
        "over = SMOTE(sampling_strategy=0.1)\n",
        "under = RandomUnderSampler(sampling_strategy=0.5)\n",
        "steps = [('o', over), ('u', under)]\n",
        "pipeline = Pipeline(steps=steps)\n",
        "# transform the dataset\n",
        "x_oversample, y_oversample = pipeline.fit_resample(x_train, y_train)"
      ],
      "metadata": {
        "id": "fEVmdfqoaF18"
      },
      "execution_count": null,
      "outputs": []
    },
    {
      "cell_type": "code",
      "source": [
        "checkpointer = ModelCheckpoint(filepath=r\"/content/sample_data/bst_weights_f_1.hdf5\", verbose=0, save_best_only=True) # save best model\n",
        "\n",
        "\n",
        "\n",
        "for i in range(5):\n",
        "    print(i)\n",
        "\n",
        "    model = Sequential()\n",
        "    model.add(Dense(20, input_dim=x.shape[1], activation='relu'))\n",
        "    model.add(Dense(10, activation='relu'))\n",
        "    model.add(Dense(1, activation='sigmoid'))\n",
        "    model.compile(loss='binary_crossentropy', optimizer='adam')\n",
        "\n",
        "    monitor = EarlyStopping(monitor='val_loss', min_delta=1e-3, patience=5, verbose=1, mode='auto')\n",
        "\n",
        "    model.fit(x_oversample,y_oversample,validation_data=(x_test,y_test),callbacks=[monitor,checkpointer],verbose=2,epochs=150)\n",
        "pred = model.predict(x_test).round()"
      ],
      "metadata": {
        "id": "_2qfnKVREoYB",
        "colab": {
          "base_uri": "https://localhost:8080/"
        },
        "outputId": "291c436e-8c04-46e8-cb0a-20c8e152c75b"
      },
      "execution_count": null,
      "outputs": [
        {
          "output_type": "stream",
          "name": "stdout",
          "text": [
            "0\n",
            "Epoch 1/150\n",
            "8/8 - 1s - loss: 11.5959 - val_loss: 2.9462 - 1s/epoch - 167ms/step\n",
            "Epoch 2/150\n",
            "8/8 - 0s - loss: 10.1468 - val_loss: 2.5614 - 82ms/epoch - 10ms/step\n",
            "Epoch 3/150\n",
            "8/8 - 0s - loss: 8.6635 - val_loss: 2.2236 - 86ms/epoch - 11ms/step\n",
            "Epoch 4/150\n",
            "8/8 - 0s - loss: 7.4786 - val_loss: 1.9034 - 81ms/epoch - 10ms/step\n",
            "Epoch 5/150\n",
            "8/8 - 0s - loss: 6.3144 - val_loss: 1.5996 - 79ms/epoch - 10ms/step\n",
            "Epoch 6/150\n",
            "8/8 - 0s - loss: 5.2143 - val_loss: 1.3161 - 79ms/epoch - 10ms/step\n",
            "Epoch 7/150\n",
            "8/8 - 0s - loss: 4.2003 - val_loss: 1.0382 - 85ms/epoch - 11ms/step\n",
            "Epoch 8/150\n",
            "8/8 - 0s - loss: 3.1961 - val_loss: 0.7701 - 94ms/epoch - 12ms/step\n",
            "Epoch 9/150\n",
            "8/8 - 0s - loss: 2.2396 - val_loss: 0.5147 - 126ms/epoch - 16ms/step\n",
            "Epoch 10/150\n",
            "8/8 - 0s - loss: 1.2821 - val_loss: 0.3628 - 82ms/epoch - 10ms/step\n",
            "Epoch 11/150\n",
            "8/8 - 0s - loss: 0.6725 - val_loss: 0.6314 - 63ms/epoch - 8ms/step\n",
            "Epoch 12/150\n",
            "8/8 - 0s - loss: 0.5935 - val_loss: 0.8375 - 67ms/epoch - 8ms/step\n",
            "Epoch 13/150\n",
            "8/8 - 0s - loss: 0.5868 - val_loss: 0.6205 - 60ms/epoch - 7ms/step\n",
            "Epoch 14/150\n",
            "8/8 - 0s - loss: 0.5392 - val_loss: 0.4732 - 69ms/epoch - 9ms/step\n",
            "Epoch 15/150\n",
            "8/8 - 0s - loss: 0.5573 - val_loss: 0.4696 - 62ms/epoch - 8ms/step\n",
            "Epoch 15: early stopping\n",
            "1\n",
            "Epoch 1/150\n",
            "8/8 - 1s - loss: 4.1265 - val_loss: 0.8212 - 1s/epoch - 151ms/step\n",
            "Epoch 2/150\n",
            "8/8 - 0s - loss: 2.2233 - val_loss: 0.3248 - 81ms/epoch - 10ms/step\n",
            "Epoch 3/150\n",
            "8/8 - 0s - loss: 0.7388 - val_loss: 1.2150 - 76ms/epoch - 9ms/step\n",
            "Epoch 4/150\n",
            "8/8 - 0s - loss: 0.8571 - val_loss: 0.5360 - 69ms/epoch - 9ms/step\n",
            "Epoch 5/150\n",
            "8/8 - 0s - loss: 0.6724 - val_loss: 0.3268 - 58ms/epoch - 7ms/step\n",
            "Epoch 6/150\n",
            "8/8 - 0s - loss: 0.6546 - val_loss: 0.4716 - 60ms/epoch - 8ms/step\n",
            "Epoch 7/150\n",
            "8/8 - 0s - loss: 0.6024 - val_loss: 0.6135 - 60ms/epoch - 7ms/step\n",
            "Epoch 7: early stopping\n",
            "2\n",
            "Epoch 1/150\n",
            "8/8 - 1s - loss: 3.8565 - val_loss: 0.9427 - 1s/epoch - 148ms/step\n",
            "Epoch 2/150\n",
            "8/8 - 0s - loss: 3.1129 - val_loss: 0.7473 - 82ms/epoch - 10ms/step\n",
            "Epoch 3/150\n",
            "8/8 - 0s - loss: 2.4080 - val_loss: 0.5681 - 125ms/epoch - 16ms/step\n",
            "Epoch 4/150\n",
            "8/8 - 0s - loss: 1.7569 - val_loss: 0.4190 - 124ms/epoch - 16ms/step\n",
            "Epoch 5/150\n",
            "8/8 - 0s - loss: 1.2700 - val_loss: 0.3361 - 117ms/epoch - 15ms/step\n",
            "Epoch 6/150\n",
            "8/8 - 0s - loss: 0.8889 - val_loss: 0.3652 - 119ms/epoch - 15ms/step\n",
            "Epoch 7/150\n",
            "8/8 - 0s - loss: 0.6808 - val_loss: 0.5601 - 118ms/epoch - 15ms/step\n",
            "Epoch 8/150\n",
            "8/8 - 0s - loss: 0.6934 - val_loss: 0.6616 - 82ms/epoch - 10ms/step\n",
            "Epoch 9/150\n",
            "8/8 - 0s - loss: 0.6719 - val_loss: 0.5395 - 120ms/epoch - 15ms/step\n",
            "Epoch 10/150\n",
            "8/8 - 0s - loss: 0.6414 - val_loss: 0.4473 - 80ms/epoch - 10ms/step\n",
            "Epoch 10: early stopping\n",
            "3\n",
            "Epoch 1/150\n",
            "8/8 - 1s - loss: 0.6824 - val_loss: 0.4800 - 1s/epoch - 146ms/step\n",
            "Epoch 2/150\n",
            "8/8 - 0s - loss: 0.6469 - val_loss: 0.5077 - 62ms/epoch - 8ms/step\n",
            "Epoch 3/150\n",
            "8/8 - 0s - loss: 0.6268 - val_loss: 0.4247 - 56ms/epoch - 7ms/step\n",
            "Epoch 4/150\n",
            "8/8 - 0s - loss: 0.6239 - val_loss: 0.5023 - 80ms/epoch - 10ms/step\n",
            "Epoch 5/150\n",
            "8/8 - 0s - loss: 0.6031 - val_loss: 0.5084 - 60ms/epoch - 8ms/step\n",
            "Epoch 6/150\n",
            "8/8 - 0s - loss: 0.5913 - val_loss: 0.4995 - 60ms/epoch - 7ms/step\n",
            "Epoch 7/150\n",
            "8/8 - 0s - loss: 0.5838 - val_loss: 0.4653 - 59ms/epoch - 7ms/step\n",
            "Epoch 8/150\n",
            "8/8 - 0s - loss: 0.5753 - val_loss: 0.4851 - 60ms/epoch - 7ms/step\n",
            "Epoch 8: early stopping\n",
            "4\n",
            "Epoch 1/150\n",
            "8/8 - 1s - loss: 11.6187 - val_loss: 13.9111 - 1s/epoch - 146ms/step\n",
            "Epoch 2/150\n",
            "8/8 - 0s - loss: 9.6542 - val_loss: 11.3250 - 63ms/epoch - 8ms/step\n",
            "Epoch 3/150\n",
            "8/8 - 0s - loss: 7.7498 - val_loss: 8.8288 - 61ms/epoch - 8ms/step\n",
            "Epoch 4/150\n",
            "8/8 - 0s - loss: 5.8487 - val_loss: 6.3914 - 63ms/epoch - 8ms/step\n",
            "Epoch 5/150\n",
            "8/8 - 0s - loss: 4.0330 - val_loss: 3.9759 - 62ms/epoch - 8ms/step\n",
            "Epoch 6/150\n",
            "8/8 - 0s - loss: 2.2875 - val_loss: 1.7773 - 61ms/epoch - 8ms/step\n",
            "Epoch 7/150\n",
            "8/8 - 0s - loss: 0.9161 - val_loss: 0.5270 - 61ms/epoch - 8ms/step\n",
            "Epoch 8/150\n",
            "8/8 - 0s - loss: 0.6505 - val_loss: 0.3344 - 57ms/epoch - 7ms/step\n",
            "Epoch 9/150\n",
            "8/8 - 0s - loss: 0.6995 - val_loss: 0.3381 - 57ms/epoch - 7ms/step\n",
            "Epoch 10/150\n",
            "8/8 - 0s - loss: 0.6473 - val_loss: 0.3840 - 61ms/epoch - 8ms/step\n",
            "Epoch 11/150\n",
            "8/8 - 0s - loss: 0.5791 - val_loss: 0.4753 - 63ms/epoch - 8ms/step\n",
            "Epoch 12/150\n",
            "8/8 - 0s - loss: 0.5750 - val_loss: 0.5463 - 61ms/epoch - 8ms/step\n",
            "Epoch 13/150\n",
            "8/8 - 0s - loss: 0.5746 - val_loss: 0.5038 - 62ms/epoch - 8ms/step\n",
            "Epoch 13: early stopping\n",
            "11/11 [==============================] - 0s 1ms/step\n"
          ]
        }
      ]
    },
    {
      "cell_type": "code",
      "source": [
        "import numpy as np\n",
        "from sklearn import metrics\n",
        "from sklearn import svm, datasets\n",
        "from sklearn.model_selection import train_test_split\n",
        "from sklearn.metrics import confusion_matrix, classification_report\n",
        "\n",
        "# Compute confusion matrix for Fully connected Nueral Network model\n",
        "cm = confusion_matrix(y_test, pred)\n",
        "print(cm)\n",
        "\n",
        "label = encode_text_index(p1data,\"KDIGO\")\n",
        "print('Plotting confusion matrix')\n",
        "\n",
        "plt.figure()\n",
        "plot_confusion_matrix(cm, label)\n",
        "plt.show()\n",
        "\n",
        "\n",
        "\n",
        "print(classification_report(y_test, pred))"
      ],
      "metadata": {
        "colab": {
          "base_uri": "https://localhost:8080/",
          "height": 525
        },
        "id": "SEvBnBXqUxYl",
        "outputId": "d9c46cab-12e7-4c36-fd01-f911b75069d7"
      },
      "execution_count": null,
      "outputs": [
        {
          "output_type": "stream",
          "name": "stdout",
          "text": [
            "[[292  28]\n",
            " [ 26   6]]\n",
            "Plotting confusion matrix\n"
          ]
        },
        {
          "output_type": "display_data",
          "data": {
            "text/plain": [
              "<Figure size 432x288 with 2 Axes>"
            ],
            "image/png": "[encoded data removed]"
          },
          "metadata": {
            "needs_background": "light"
          }
        },
        {
          "output_type": "stream",
          "name": "stdout",
          "text": [
            "              precision    recall  f1-score   support\n",
            "\n",
            "         0.0       0.92      0.91      0.92       320\n",
            "         1.0       0.18      0.19      0.18        32\n",
            "\n",
            "    accuracy                           0.85       352\n",
            "   macro avg       0.55      0.55      0.55       352\n",
            "weighted avg       0.85      0.85      0.85       352\n",
            "\n"
          ]
        }
      ]
    },
    {
      "cell_type": "code",
      "source": [
        "\n",
        "plot_roc(pred,y_test)"
      ],
      "metadata": {
        "colab": {
          "base_uri": "https://localhost:8080/",
          "height": 295
        },
        "id": "h5t-qyltUxi8",
        "outputId": "9dffd069-ec03-4699-ac1d-9f6a91858c95"
      },
      "execution_count": null,
      "outputs": [
        {
          "output_type": "display_data",
          "data": {
            "text/plain": [
              "<Figure size 432x288 with 1 Axes>"
            ],
            "image/png": "[encoded data removed]"
          },
          "metadata": {
            "needs_background": "light"
          }
        }
      ]
    }
  ],
  "metadata": {
    "colab": {
      "provenance": []
    },
    "kernelspec": {
      "display_name": "Python 3",
      "name": "python3"
    },
    "language_info": {
      "name": "python"
    },
    "accelerator": "GPU",
    "gpuClass": "standard"
  },
  "nbformat": 4,
  "nbformat_minor": 0
}